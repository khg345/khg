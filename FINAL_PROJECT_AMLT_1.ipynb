{
 "cells": [
  {
   "cell_type": "code",
   "execution_count": 1,
   "metadata": {},
   "outputs": [],
   "source": [
    "import pandas as pd\n",
    "import numpy as np\n",
    "import matplotlib.pyplot as plt\n",
    "import seaborn as sns\n",
    "%matplotlib inline"
   ]
  },
  {
   "cell_type": "code",
   "execution_count": 2,
   "metadata": {},
   "outputs": [],
   "source": [
    "data = pd.read_csv('Clinic Management4.csv')"
   ]
  },
  {
   "cell_type": "code",
   "execution_count": 3,
   "metadata": {},
   "outputs": [
    {
     "data": {
      "text/html": [
       "<div>\n",
       "<style scoped>\n",
       "    .dataframe tbody tr th:only-of-type {\n",
       "        vertical-align: middle;\n",
       "    }\n",
       "\n",
       "    .dataframe tbody tr th {\n",
       "        vertical-align: top;\n",
       "    }\n",
       "\n",
       "    .dataframe thead th {\n",
       "        text-align: right;\n",
       "    }\n",
       "</style>\n",
       "<table border=\"1\" class=\"dataframe\">\n",
       "  <thead>\n",
       "    <tr style=\"text-align: right;\">\n",
       "      <th></th>\n",
       "      <th>PatientId</th>\n",
       "      <th>AppointmentID</th>\n",
       "      <th>Gender</th>\n",
       "      <th>ScheduledDay</th>\n",
       "      <th>AppointmentDay</th>\n",
       "      <th>Age</th>\n",
       "      <th>Neighbourhood</th>\n",
       "      <th>Scholarship</th>\n",
       "      <th>Hipertension</th>\n",
       "      <th>Diabetes</th>\n",
       "      <th>Alcoholism</th>\n",
       "      <th>Handcap</th>\n",
       "      <th>SMS_received</th>\n",
       "      <th>No-show</th>\n",
       "    </tr>\n",
       "  </thead>\n",
       "  <tbody>\n",
       "    <tr>\n",
       "      <th>0</th>\n",
       "      <td>2.990000e+13</td>\n",
       "      <td>5642903</td>\n",
       "      <td>F</td>\n",
       "      <td>2016-04-29T18:38:08Z</td>\n",
       "      <td>2016-04-29T00:00:00Z</td>\n",
       "      <td>62</td>\n",
       "      <td>JARDIM DA PENHA</td>\n",
       "      <td>0</td>\n",
       "      <td>1</td>\n",
       "      <td>0</td>\n",
       "      <td>0</td>\n",
       "      <td>0</td>\n",
       "      <td>0</td>\n",
       "      <td>No</td>\n",
       "    </tr>\n",
       "    <tr>\n",
       "      <th>1</th>\n",
       "      <td>5.590000e+14</td>\n",
       "      <td>5642503</td>\n",
       "      <td>M</td>\n",
       "      <td>2016-04-29T16:08:27Z</td>\n",
       "      <td>2016-04-29T00:00:00Z</td>\n",
       "      <td>56</td>\n",
       "      <td>JARDIM DA PENHA</td>\n",
       "      <td>0</td>\n",
       "      <td>0</td>\n",
       "      <td>0</td>\n",
       "      <td>0</td>\n",
       "      <td>0</td>\n",
       "      <td>0</td>\n",
       "      <td>No</td>\n",
       "    </tr>\n",
       "    <tr>\n",
       "      <th>2</th>\n",
       "      <td>4.260000e+12</td>\n",
       "      <td>5642549</td>\n",
       "      <td>F</td>\n",
       "      <td>2016-04-29T16:19:04Z</td>\n",
       "      <td>2016-04-29T00:00:00Z</td>\n",
       "      <td>62</td>\n",
       "      <td>MATA DA PRAIA</td>\n",
       "      <td>0</td>\n",
       "      <td>0</td>\n",
       "      <td>0</td>\n",
       "      <td>0</td>\n",
       "      <td>0</td>\n",
       "      <td>0</td>\n",
       "      <td>No</td>\n",
       "    </tr>\n",
       "    <tr>\n",
       "      <th>3</th>\n",
       "      <td>8.680000e+11</td>\n",
       "      <td>5642828</td>\n",
       "      <td>F</td>\n",
       "      <td>2016-04-29T17:29:31Z</td>\n",
       "      <td>2016-04-29T00:00:00Z</td>\n",
       "      <td>8</td>\n",
       "      <td>PONTAL DE CAMBURI</td>\n",
       "      <td>0</td>\n",
       "      <td>0</td>\n",
       "      <td>0</td>\n",
       "      <td>0</td>\n",
       "      <td>0</td>\n",
       "      <td>0</td>\n",
       "      <td>No</td>\n",
       "    </tr>\n",
       "    <tr>\n",
       "      <th>4</th>\n",
       "      <td>8.840000e+12</td>\n",
       "      <td>5642494</td>\n",
       "      <td>F</td>\n",
       "      <td>2016-04-29T16:07:23Z</td>\n",
       "      <td>2016-04-29T00:00:00Z</td>\n",
       "      <td>56</td>\n",
       "      <td>JARDIM DA PENHA</td>\n",
       "      <td>0</td>\n",
       "      <td>1</td>\n",
       "      <td>1</td>\n",
       "      <td>0</td>\n",
       "      <td>0</td>\n",
       "      <td>0</td>\n",
       "      <td>No</td>\n",
       "    </tr>\n",
       "  </tbody>\n",
       "</table>\n",
       "</div>"
      ],
      "text/plain": [
       "      PatientId  AppointmentID Gender          ScheduledDay  \\\n",
       "0  2.990000e+13        5642903      F  2016-04-29T18:38:08Z   \n",
       "1  5.590000e+14        5642503      M  2016-04-29T16:08:27Z   \n",
       "2  4.260000e+12        5642549      F  2016-04-29T16:19:04Z   \n",
       "3  8.680000e+11        5642828      F  2016-04-29T17:29:31Z   \n",
       "4  8.840000e+12        5642494      F  2016-04-29T16:07:23Z   \n",
       "\n",
       "         AppointmentDay  Age      Neighbourhood  Scholarship  Hipertension  \\\n",
       "0  2016-04-29T00:00:00Z   62    JARDIM DA PENHA            0             1   \n",
       "1  2016-04-29T00:00:00Z   56    JARDIM DA PENHA            0             0   \n",
       "2  2016-04-29T00:00:00Z   62      MATA DA PRAIA            0             0   \n",
       "3  2016-04-29T00:00:00Z    8  PONTAL DE CAMBURI            0             0   \n",
       "4  2016-04-29T00:00:00Z   56    JARDIM DA PENHA            0             1   \n",
       "\n",
       "   Diabetes  Alcoholism  Handcap  SMS_received No-show  \n",
       "0         0           0        0             0      No  \n",
       "1         0           0        0             0      No  \n",
       "2         0           0        0             0      No  \n",
       "3         0           0        0             0      No  \n",
       "4         1           0        0             0      No  "
      ]
     },
     "execution_count": 3,
     "metadata": {},
     "output_type": "execute_result"
    }
   ],
   "source": [
    "data.head(5)"
   ]
  },
  {
   "cell_type": "code",
   "execution_count": 4,
   "metadata": {},
   "outputs": [
    {
     "name": "stdout",
     "output_type": "stream",
     "text": [
      "<class 'pandas.core.frame.DataFrame'>\n",
      "RangeIndex: 499 entries, 0 to 498\n",
      "Data columns (total 14 columns):\n",
      " #   Column          Non-Null Count  Dtype \n",
      "---  ------          --------------  ----- \n",
      " 0   PatientId       499 non-null    int64 \n",
      " 1   AppointmentID   499 non-null    int64 \n",
      " 2   Gender          499 non-null    object\n",
      " 3   ScheduledDay    499 non-null    object\n",
      " 4   AppointmentDay  499 non-null    object\n",
      " 5   Age             499 non-null    int64 \n",
      " 6   Neighbourhood   499 non-null    object\n",
      " 7   Scholarship     499 non-null    int64 \n",
      " 8   Hipertension    499 non-null    int64 \n",
      " 9   Diabetes        499 non-null    int64 \n",
      " 10  Alcoholism      499 non-null    int64 \n",
      " 11  Handcap         499 non-null    int64 \n",
      " 12  SMS_received    499 non-null    int64 \n",
      " 13  No-show         499 non-null    object\n",
      "dtypes: int64(9), object(5)\n",
      "memory usage: 54.7+ KB\n"
     ]
    }
   ],
   "source": [
    "data['PatientId'] = data['PatientId'].astype('int64')\n",
    "data.info()"
   ]
  },
  {
   "cell_type": "markdown",
   "metadata": {},
   "source": [
    "#### Basic Descriptive Analysis"
   ]
  },
  {
   "cell_type": "code",
   "execution_count": 5,
   "metadata": {},
   "outputs": [
    {
     "data": {
      "text/html": [
       "<div>\n",
       "<style scoped>\n",
       "    .dataframe tbody tr th:only-of-type {\n",
       "        vertical-align: middle;\n",
       "    }\n",
       "\n",
       "    .dataframe tbody tr th {\n",
       "        vertical-align: top;\n",
       "    }\n",
       "\n",
       "    .dataframe thead th {\n",
       "        text-align: right;\n",
       "    }\n",
       "</style>\n",
       "<table border=\"1\" class=\"dataframe\">\n",
       "  <thead>\n",
       "    <tr style=\"text-align: right;\">\n",
       "      <th></th>\n",
       "      <th>PatientId</th>\n",
       "      <th>AppointmentID</th>\n",
       "      <th>Age</th>\n",
       "      <th>Scholarship</th>\n",
       "      <th>Hipertension</th>\n",
       "      <th>Diabetes</th>\n",
       "      <th>Alcoholism</th>\n",
       "      <th>Handcap</th>\n",
       "      <th>SMS_received</th>\n",
       "    </tr>\n",
       "  </thead>\n",
       "  <tbody>\n",
       "    <tr>\n",
       "      <th>count</th>\n",
       "      <td>4.990000e+02</td>\n",
       "      <td>4.990000e+02</td>\n",
       "      <td>499.000000</td>\n",
       "      <td>499.000000</td>\n",
       "      <td>499.000000</td>\n",
       "      <td>499.000000</td>\n",
       "      <td>499.000000</td>\n",
       "      <td>499.000000</td>\n",
       "      <td>499.000000</td>\n",
       "    </tr>\n",
       "    <tr>\n",
       "      <th>mean</th>\n",
       "      <td>1.407538e+14</td>\n",
       "      <td>5.595527e+06</td>\n",
       "      <td>33.048096</td>\n",
       "      <td>0.118236</td>\n",
       "      <td>0.184369</td>\n",
       "      <td>0.076152</td>\n",
       "      <td>0.020040</td>\n",
       "      <td>0.014028</td>\n",
       "      <td>0.398798</td>\n",
       "    </tr>\n",
       "    <tr>\n",
       "      <th>std</th>\n",
       "      <td>2.528842e+14</td>\n",
       "      <td>5.398804e+04</td>\n",
       "      <td>23.074214</td>\n",
       "      <td>0.323212</td>\n",
       "      <td>0.388174</td>\n",
       "      <td>0.265508</td>\n",
       "      <td>0.140278</td>\n",
       "      <td>0.117724</td>\n",
       "      <td>0.490142</td>\n",
       "    </tr>\n",
       "    <tr>\n",
       "      <th>min</th>\n",
       "      <td>5.228864e+08</td>\n",
       "      <td>5.408325e+06</td>\n",
       "      <td>0.000000</td>\n",
       "      <td>0.000000</td>\n",
       "      <td>0.000000</td>\n",
       "      <td>0.000000</td>\n",
       "      <td>0.000000</td>\n",
       "      <td>0.000000</td>\n",
       "      <td>0.000000</td>\n",
       "    </tr>\n",
       "    <tr>\n",
       "      <th>25%</th>\n",
       "      <td>3.855000e+12</td>\n",
       "      <td>5.555562e+06</td>\n",
       "      <td>12.000000</td>\n",
       "      <td>0.000000</td>\n",
       "      <td>0.000000</td>\n",
       "      <td>0.000000</td>\n",
       "      <td>0.000000</td>\n",
       "      <td>0.000000</td>\n",
       "      <td>0.000000</td>\n",
       "    </tr>\n",
       "    <tr>\n",
       "      <th>50%</th>\n",
       "      <td>2.150000e+13</td>\n",
       "      <td>5.623692e+06</td>\n",
       "      <td>32.000000</td>\n",
       "      <td>0.000000</td>\n",
       "      <td>0.000000</td>\n",
       "      <td>0.000000</td>\n",
       "      <td>0.000000</td>\n",
       "      <td>0.000000</td>\n",
       "      <td>0.000000</td>\n",
       "    </tr>\n",
       "    <tr>\n",
       "      <th>75%</th>\n",
       "      <td>8.695000e+13</td>\n",
       "      <td>5.639090e+06</td>\n",
       "      <td>53.000000</td>\n",
       "      <td>0.000000</td>\n",
       "      <td>0.000000</td>\n",
       "      <td>0.000000</td>\n",
       "      <td>0.000000</td>\n",
       "      <td>0.000000</td>\n",
       "      <td>1.000000</td>\n",
       "    </tr>\n",
       "    <tr>\n",
       "      <th>max</th>\n",
       "      <td>9.970000e+14</td>\n",
       "      <td>5.642904e+06</td>\n",
       "      <td>89.000000</td>\n",
       "      <td>1.000000</td>\n",
       "      <td>1.000000</td>\n",
       "      <td>1.000000</td>\n",
       "      <td>1.000000</td>\n",
       "      <td>1.000000</td>\n",
       "      <td>1.000000</td>\n",
       "    </tr>\n",
       "  </tbody>\n",
       "</table>\n",
       "</div>"
      ],
      "text/plain": [
       "          PatientId  AppointmentID         Age  Scholarship  Hipertension  \\\n",
       "count  4.990000e+02   4.990000e+02  499.000000   499.000000    499.000000   \n",
       "mean   1.407538e+14   5.595527e+06   33.048096     0.118236      0.184369   \n",
       "std    2.528842e+14   5.398804e+04   23.074214     0.323212      0.388174   \n",
       "min    5.228864e+08   5.408325e+06    0.000000     0.000000      0.000000   \n",
       "25%    3.855000e+12   5.555562e+06   12.000000     0.000000      0.000000   \n",
       "50%    2.150000e+13   5.623692e+06   32.000000     0.000000      0.000000   \n",
       "75%    8.695000e+13   5.639090e+06   53.000000     0.000000      0.000000   \n",
       "max    9.970000e+14   5.642904e+06   89.000000     1.000000      1.000000   \n",
       "\n",
       "         Diabetes  Alcoholism     Handcap  SMS_received  \n",
       "count  499.000000  499.000000  499.000000    499.000000  \n",
       "mean     0.076152    0.020040    0.014028      0.398798  \n",
       "std      0.265508    0.140278    0.117724      0.490142  \n",
       "min      0.000000    0.000000    0.000000      0.000000  \n",
       "25%      0.000000    0.000000    0.000000      0.000000  \n",
       "50%      0.000000    0.000000    0.000000      0.000000  \n",
       "75%      0.000000    0.000000    0.000000      1.000000  \n",
       "max      1.000000    1.000000    1.000000      1.000000  "
      ]
     },
     "execution_count": 5,
     "metadata": {},
     "output_type": "execute_result"
    }
   ],
   "source": [
    "data.describe()"
   ]
  },
  {
   "cell_type": "code",
   "execution_count": 6,
   "metadata": {},
   "outputs": [
    {
     "data": {
      "text/plain": [
       "PatientId         0\n",
       "AppointmentID     0\n",
       "Gender            0\n",
       "ScheduledDay      0\n",
       "AppointmentDay    0\n",
       "Age               0\n",
       "Neighbourhood     0\n",
       "Scholarship       0\n",
       "Hipertension      0\n",
       "Diabetes          0\n",
       "Alcoholism        0\n",
       "Handcap           0\n",
       "SMS_received      0\n",
       "No-show           0\n",
       "dtype: int64"
      ]
     },
     "execution_count": 6,
     "metadata": {},
     "output_type": "execute_result"
    }
   ],
   "source": [
    "data.isnull().sum()"
   ]
  },
  {
   "cell_type": "code",
   "execution_count": 7,
   "metadata": {},
   "outputs": [
    {
     "name": "stdout",
     "output_type": "stream",
     "text": [
      "<class 'pandas.core.frame.DataFrame'>\n",
      "RangeIndex: 499 entries, 0 to 498\n",
      "Data columns (total 14 columns):\n",
      " #   Column          Non-Null Count  Dtype \n",
      "---  ------          --------------  ----- \n",
      " 0   PatientId       499 non-null    int64 \n",
      " 1   AppointmentID   499 non-null    int64 \n",
      " 2   Gender          499 non-null    object\n",
      " 3   ScheduledDay    499 non-null    object\n",
      " 4   AppointmentDay  499 non-null    object\n",
      " 5   Age             499 non-null    int64 \n",
      " 6   Neighbourhood   499 non-null    object\n",
      " 7   Scholarship     499 non-null    int64 \n",
      " 8   Hipertension    499 non-null    int64 \n",
      " 9   Diabetes        499 non-null    int64 \n",
      " 10  Alcoholism      499 non-null    int64 \n",
      " 11  Handcap         499 non-null    int64 \n",
      " 12  SMS_received    499 non-null    int64 \n",
      " 13  No-show         499 non-null    object\n",
      "dtypes: int64(9), object(5)\n",
      "memory usage: 54.7+ KB\n"
     ]
    }
   ],
   "source": [
    "data.info()"
   ]
  },
  {
   "cell_type": "code",
   "execution_count": 8,
   "metadata": {},
   "outputs": [
    {
     "data": {
      "text/plain": [
       "Index(['PatientId', 'AppointmentID', 'Gender', 'ScheduledDay',\n",
       "       'AppointmentDay', 'Age', 'Neighbourhood', 'Scholarship', 'Hipertension',\n",
       "       'Diabetes', 'Alcoholism', 'Handcap', 'SMS_received', 'No-show'],\n",
       "      dtype='object')"
      ]
     },
     "execution_count": 8,
     "metadata": {},
     "output_type": "execute_result"
    }
   ],
   "source": [
    "data.columns"
   ]
  },
  {
   "cell_type": "markdown",
   "metadata": {},
   "source": [
    "#### Exploratory Data Analysis"
   ]
  },
  {
   "cell_type": "code",
   "execution_count": 9,
   "metadata": {},
   "outputs": [
    {
     "data": {
      "text/plain": [
       "442"
      ]
     },
     "execution_count": 9,
     "metadata": {},
     "output_type": "execute_result"
    }
   ],
   "source": [
    "data[\"PatientId\"].nunique()"
   ]
  },
  {
   "cell_type": "code",
   "execution_count": 10,
   "metadata": {},
   "outputs": [
    {
     "data": {
      "text/plain": [
       "499"
      ]
     },
     "execution_count": 10,
     "metadata": {},
     "output_type": "execute_result"
    }
   ],
   "source": [
    "data[\"AppointmentID\"].nunique()"
   ]
  },
  {
   "cell_type": "code",
   "execution_count": 11,
   "metadata": {},
   "outputs": [
    {
     "data": {
      "text/plain": [
       "F    326\n",
       "M    173\n",
       "Name: Gender, dtype: int64"
      ]
     },
     "execution_count": 11,
     "metadata": {},
     "output_type": "execute_result"
    }
   ],
   "source": [
    "data[\"Gender\"].value_counts()"
   ]
  },
  {
   "cell_type": "code",
   "execution_count": 12,
   "metadata": {},
   "outputs": [
    {
     "name": "stderr",
     "output_type": "stream",
     "text": [
      "C:\\ProgramData\\Anaconda3\\lib\\site-packages\\seaborn\\_decorators.py:36: FutureWarning: Pass the following variable as a keyword arg: x. From version 0.12, the only valid positional argument will be `data`, and passing other arguments without an explicit keyword will result in an error or misinterpretation.\n",
      "  warnings.warn(\n"
     ]
    },
    {
     "data": {
      "image/png": "[encoded data removed]",
      "text/plain": [
       "<Figure size 432x288 with 1 Axes>"
      ]
     },
     "metadata": {
      "needs_background": "light"
     },
     "output_type": "display_data"
    }
   ],
   "source": [
    "sns.countplot(data['No-show']);\n",
    "plt.title(\"Classes relation\");\n",
    "plt.show();"
   ]
  },
  {
   "cell_type": "code",
   "execution_count": 13,
   "metadata": {},
   "outputs": [
    {
     "data": {
      "image/png": "[encoded data removed]",
      "text/plain": [
       "<Figure size 864x288 with 3 Axes>"
      ]
     },
     "metadata": {
      "needs_background": "light"
     },
     "output_type": "display_data"
    }
   ],
   "source": [
    "fig, (ax1, ax2, ax3) = plt.subplots(ncols=3, sharey=True)\n",
    "sns.countplot(x='Hipertension', data=data, hue='No-show', ax=ax1);\n",
    "sns.countplot(x='Diabetes', data=data, hue='No-show', ax=ax2);\n",
    "sns.countplot(x='Alcoholism', data=data, hue='No-show', ax=ax3);\n",
    "fig.set_figwidth(12)\n",
    "fig.set_figheight(4)"
   ]
  },
  {
   "cell_type": "markdown",
   "metadata": {},
   "source": [
    "* It is rare for patients with hypertension to not go to an appointment.\n",
    "* The graphs above show that hypertension is more common than diabetes in the patients participating in the study."
   ]
  },
  {
   "cell_type": "markdown",
   "metadata": {},
   "source": [
    "#####  Visualizing the gender data"
   ]
  },
  {
   "cell_type": "code",
   "execution_count": 14,
   "metadata": {},
   "outputs": [
    {
     "data": {
      "image/png": "[encoded data removed]",
      "text/plain": [
       "<Figure size 864x504 with 1 Axes>"
      ]
     },
     "metadata": {
      "needs_background": "light"
     },
     "output_type": "display_data"
    }
   ],
   "source": [
    "plt.figure(figsize=(12,7));\n",
    "sns.set_context(\"paper\", font_scale=1.5);\n",
    "sns.countplot(x=data[\"No-show\"], data=data, hue=\"Gender\", color=\"pink\") ;"
   ]
  },
  {
   "cell_type": "markdown",
   "metadata": {},
   "source": [
    "* Female patients, who made an appointment accounts for 65%.\n",
    "* Male patients, who made an appointment accounts for 35%."
   ]
  },
  {
   "cell_type": "code",
   "execution_count": 15,
   "metadata": {},
   "outputs": [
    {
     "data": {
      "text/plain": [
       "F    65.330661\n",
       "M    34.669339\n",
       "Name: Gender, dtype: float64"
      ]
     },
     "execution_count": 15,
     "metadata": {},
     "output_type": "execute_result"
    }
   ],
   "source": [
    "data[\"Gender\"].value_counts(normalize=True)*100"
   ]
  },
  {
   "cell_type": "markdown",
   "metadata": {},
   "source": [
    "The probability of picking a male patient, who missed the appointment is 34.6%.\n",
    "The probability of picking a female patient, who missed the appointment is 65.4%.\n"
   ]
  },
  {
   "cell_type": "code",
   "execution_count": 16,
   "metadata": {},
   "outputs": [
    {
     "data": {
      "text/plain": [
       "No-show  Gender\n",
       "No       F         65.365854\n",
       "         M         34.634146\n",
       "Yes      F         65.168539\n",
       "         M         34.831461\n",
       "Name: Gender, dtype: float64"
      ]
     },
     "execution_count": 16,
     "metadata": {},
     "output_type": "execute_result"
    }
   ],
   "source": [
    "data1 = data.groupby(\"No-show\")[\"Gender\"]\n",
    "data1.value_counts(normalize=True)*100"
   ]
  },
  {
   "cell_type": "markdown",
   "metadata": {},
   "source": [
    "    Note that the feature \"ScheduledDay\" is object type. We Will need to create new features of scheduled year, month, and day to give us more meaningful information. They will be converted into datetime format."
   ]
  },
  {
   "cell_type": "code",
   "execution_count": 17,
   "metadata": {},
   "outputs": [
    {
     "data": {
      "text/plain": [
       "2016-04-25T10:06:33Z    2\n",
       "2016-04-12T17:12:17Z    2\n",
       "2016-04-27T13:16:02Z    2\n",
       "2016-04-28T16:38:34Z    2\n",
       "2016-03-31T12:39:06Z    2\n",
       "                       ..\n",
       "2016-04-08T14:10:06Z    1\n",
       "2016-04-06T13:42:36Z    1\n",
       "2016-04-12T14:51:09Z    1\n",
       "2016-04-28T10:36:10Z    1\n",
       "2016-03-17T10:21:08Z    1\n",
       "Name: ScheduledDay, Length: 489, dtype: int64"
      ]
     },
     "execution_count": 17,
     "metadata": {},
     "output_type": "execute_result"
    }
   ],
   "source": [
    "data[\"ScheduledDay\"].value_counts()"
   ]
  },
  {
   "cell_type": "code",
   "execution_count": 18,
   "metadata": {},
   "outputs": [],
   "source": [
    "data[\"ScheduledDay\"] = pd.to_datetime(data[\"ScheduledDay\"])"
   ]
  },
  {
   "cell_type": "code",
   "execution_count": 19,
   "metadata": {},
   "outputs": [],
   "source": [
    "data[\"Scheduled_Year\"] = data[\"ScheduledDay\"].dt.year"
   ]
  },
  {
   "cell_type": "code",
   "execution_count": 20,
   "metadata": {},
   "outputs": [
    {
     "data": {
      "text/plain": [
       "2016    499\n",
       "Name: Scheduled_Year, dtype: int64"
      ]
     },
     "execution_count": 20,
     "metadata": {},
     "output_type": "execute_result"
    }
   ],
   "source": [
    "data[\"Scheduled_Year\"].value_counts()"
   ]
  },
  {
   "cell_type": "code",
   "execution_count": 21,
   "metadata": {},
   "outputs": [],
   "source": [
    "data[\"Scheduled_Month\"] = data[\"ScheduledDay\"].dt.month"
   ]
  },
  {
   "cell_type": "code",
   "execution_count": 22,
   "metadata": {},
   "outputs": [
    {
     "data": {
      "text/plain": [
       "4    407\n",
       "3     91\n",
       "2      1\n",
       "Name: Scheduled_Month, dtype: int64"
      ]
     },
     "execution_count": 22,
     "metadata": {},
     "output_type": "execute_result"
    }
   ],
   "source": [
    "data[\"Scheduled_Month\"].value_counts()"
   ]
  },
  {
   "cell_type": "code",
   "execution_count": 23,
   "metadata": {},
   "outputs": [],
   "source": [
    "data[\"Scheduled_Date\"] = data[\"ScheduledDay\"].dt.day"
   ]
  },
  {
   "cell_type": "code",
   "execution_count": 24,
   "metadata": {},
   "outputs": [
    {
     "data": {
      "text/plain": [
       "29    185\n",
       "28     41\n",
       "18     34\n",
       "27     28\n",
       "26     24\n",
       "25     18\n",
       "31     16\n",
       "15     16\n",
       "12     14\n",
       "23     14\n",
       "1      14\n",
       "8      11\n",
       "21     11\n",
       "19      9\n",
       "5       9\n",
       "6       8\n",
       "14      8\n",
       "20      8\n",
       "17      6\n",
       "22      6\n",
       "11      5\n",
       "7       5\n",
       "30      3\n",
       "16      3\n",
       "13      1\n",
       "4       1\n",
       "10      1\n",
       "Name: Scheduled_Date, dtype: int64"
      ]
     },
     "execution_count": 24,
     "metadata": {},
     "output_type": "execute_result"
    }
   ],
   "source": [
    "data[\"Scheduled_Date\"].value_counts()"
   ]
  },
  {
   "cell_type": "code",
   "execution_count": 25,
   "metadata": {},
   "outputs": [
    {
     "name": "stdout",
     "output_type": "stream",
     "text": [
      "<class 'pandas.core.frame.DataFrame'>\n",
      "RangeIndex: 499 entries, 0 to 498\n",
      "Data columns (total 17 columns):\n",
      " #   Column           Non-Null Count  Dtype              \n",
      "---  ------           --------------  -----              \n",
      " 0   PatientId        499 non-null    int64              \n",
      " 1   AppointmentID    499 non-null    int64              \n",
      " 2   Gender           499 non-null    object             \n",
      " 3   ScheduledDay     499 non-null    datetime64[ns, UTC]\n",
      " 4   AppointmentDay   499 non-null    object             \n",
      " 5   Age              499 non-null    int64              \n",
      " 6   Neighbourhood    499 non-null    object             \n",
      " 7   Scholarship      499 non-null    int64              \n",
      " 8   Hipertension     499 non-null    int64              \n",
      " 9   Diabetes         499 non-null    int64              \n",
      " 10  Alcoholism       499 non-null    int64              \n",
      " 11  Handcap          499 non-null    int64              \n",
      " 12  SMS_received     499 non-null    int64              \n",
      " 13  No-show          499 non-null    object             \n",
      " 14  Scheduled_Year   499 non-null    int64              \n",
      " 15  Scheduled_Month  499 non-null    int64              \n",
      " 16  Scheduled_Date   499 non-null    int64              \n",
      "dtypes: datetime64[ns, UTC](1), int64(12), object(4)\n",
      "memory usage: 66.4+ KB\n"
     ]
    }
   ],
   "source": [
    "data.info()"
   ]
  },
  {
   "cell_type": "markdown",
   "metadata": {},
   "source": [
    "    Since the feature \"ScheduledDay\" has been engineered into 3 new features in datetime format, it is no longer needed."
   ]
  },
  {
   "cell_type": "code",
   "execution_count": 26,
   "metadata": {},
   "outputs": [],
   "source": [
    "data = data.drop(\"ScheduledDay\", axis=1)"
   ]
  },
  {
   "cell_type": "code",
   "execution_count": 27,
   "metadata": {},
   "outputs": [
    {
     "data": {
      "image/png": "[encoded data removed]",
      "text/plain": [
       "<Figure size 1080x504 with 1 Axes>"
      ]
     },
     "metadata": {
      "needs_background": "light"
     },
     "output_type": "display_data"
    }
   ],
   "source": [
    "plt.figure(figsize=(15,7));\n",
    "sns.countplot(x=data[\"Scheduled_Date\"], hue=\"No-show\", data=data, color=\"seagreen\");"
   ]
  },
  {
   "cell_type": "markdown",
   "metadata": {},
   "source": [
    "Almost everyday, a No Show is observed"
   ]
  },
  {
   "cell_type": "code",
   "execution_count": 28,
   "metadata": {},
   "outputs": [
    {
     "data": {
      "image/png": "[encoded data removed]",
      "text/plain": [
       "<Figure size 1080x504 with 1 Axes>"
      ]
     },
     "metadata": {
      "needs_background": "light"
     },
     "output_type": "display_data"
    }
   ],
   "source": [
    "plt.figure(figsize=(15,7))\n",
    "sns.countplot(x=data[\"Scheduled_Month\"], hue=\"No-show\", data=data, color=\"yellow\");"
   ]
  },
  {
   "cell_type": "markdown",
   "metadata": {},
   "source": [
    "    Visualizing the Scheduled Month. Note that only March to June have the most appointments made throughout the year."
   ]
  },
  {
   "cell_type": "code",
   "execution_count": 29,
   "metadata": {},
   "outputs": [
    {
     "data": {
      "text/plain": [
       "4    81.563126\n",
       "3    18.236473\n",
       "2     0.200401\n",
       "Name: Scheduled_Month, dtype: float64"
      ]
     },
     "execution_count": 29,
     "metadata": {},
     "output_type": "execute_result"
    }
   ],
   "source": [
    "data[\"Scheduled_Month\"].value_counts(normalize=True)*100"
   ]
  },
  {
   "cell_type": "markdown",
   "metadata": {},
   "source": [
    "Will replace:\n",
    "\n",
    "Month of April, May, June as 1; the rest as 0.\n",
    "This feature will provide us more meaningful information when feeding the data into PCA."
   ]
  },
  {
   "cell_type": "code",
   "execution_count": 30,
   "metadata": {},
   "outputs": [],
   "source": [
    "data[\"Scheduled_Month\"] = data[\"Scheduled_Month\"].replace([4,5,6], 100)\n",
    "data[\"Scheduled_Month\"] = data[\"Scheduled_Month\"].replace([1,2,3,7,8,9,10,11,12], 0)"
   ]
  },
  {
   "cell_type": "code",
   "execution_count": 31,
   "metadata": {},
   "outputs": [],
   "source": [
    "data[\"Scheduled_Month\"] = data[\"Scheduled_Month\"].replace(100, 1)"
   ]
  },
  {
   "cell_type": "code",
   "execution_count": 32,
   "metadata": {},
   "outputs": [
    {
     "data": {
      "text/plain": [
       "1    407\n",
       "0     92\n",
       "Name: Scheduled_Month, dtype: int64"
      ]
     },
     "execution_count": 32,
     "metadata": {},
     "output_type": "execute_result"
    }
   ],
   "source": [
    "data[\"Scheduled_Month\"].value_counts()"
   ]
  },
  {
   "cell_type": "markdown",
   "metadata": {},
   "source": [
    "    Moving on to the next feature, Appointment Day. Noted that this feature is in object datatype as well. Will need convert them into datetime format."
   ]
  },
  {
   "cell_type": "code",
   "execution_count": 33,
   "metadata": {},
   "outputs": [
    {
     "data": {
      "text/plain": [
       "2016-04-29T00:00:00Z    499\n",
       "Name: AppointmentDay, dtype: int64"
      ]
     },
     "execution_count": 33,
     "metadata": {},
     "output_type": "execute_result"
    }
   ],
   "source": [
    "data[\"AppointmentDay\"].value_counts()"
   ]
  },
  {
   "cell_type": "code",
   "execution_count": 34,
   "metadata": {},
   "outputs": [],
   "source": [
    "data[\"AppointmentDay\"] = pd.to_datetime(data[\"AppointmentDay\"])"
   ]
  },
  {
   "cell_type": "code",
   "execution_count": 35,
   "metadata": {},
   "outputs": [],
   "source": [
    "data[\"Appointment_Year\"] = data[\"AppointmentDay\"].dt.year"
   ]
  },
  {
   "cell_type": "code",
   "execution_count": 36,
   "metadata": {},
   "outputs": [],
   "source": [
    "data[\"Appointment_Month\"] = data[\"AppointmentDay\"].dt.month"
   ]
  },
  {
   "cell_type": "code",
   "execution_count": 37,
   "metadata": {},
   "outputs": [],
   "source": [
    "data[\"Appointment_Date\"] = data[\"AppointmentDay\"].dt.day"
   ]
  },
  {
   "cell_type": "code",
   "execution_count": 38,
   "metadata": {},
   "outputs": [
    {
     "name": "stdout",
     "output_type": "stream",
     "text": [
      "<class 'pandas.core.frame.DataFrame'>\n",
      "RangeIndex: 499 entries, 0 to 498\n",
      "Data columns (total 19 columns):\n",
      " #   Column             Non-Null Count  Dtype              \n",
      "---  ------             --------------  -----              \n",
      " 0   PatientId          499 non-null    int64              \n",
      " 1   AppointmentID      499 non-null    int64              \n",
      " 2   Gender             499 non-null    object             \n",
      " 3   AppointmentDay     499 non-null    datetime64[ns, UTC]\n",
      " 4   Age                499 non-null    int64              \n",
      " 5   Neighbourhood      499 non-null    object             \n",
      " 6   Scholarship        499 non-null    int64              \n",
      " 7   Hipertension       499 non-null    int64              \n",
      " 8   Diabetes           499 non-null    int64              \n",
      " 9   Alcoholism         499 non-null    int64              \n",
      " 10  Handcap            499 non-null    int64              \n",
      " 11  SMS_received       499 non-null    int64              \n",
      " 12  No-show            499 non-null    object             \n",
      " 13  Scheduled_Year     499 non-null    int64              \n",
      " 14  Scheduled_Month    499 non-null    int64              \n",
      " 15  Scheduled_Date     499 non-null    int64              \n",
      " 16  Appointment_Year   499 non-null    int64              \n",
      " 17  Appointment_Month  499 non-null    int64              \n",
      " 18  Appointment_Date   499 non-null    int64              \n",
      "dtypes: datetime64[ns, UTC](1), int64(15), object(3)\n",
      "memory usage: 74.2+ KB\n"
     ]
    }
   ],
   "source": [
    "data.info()"
   ]
  },
  {
   "cell_type": "markdown",
   "metadata": {},
   "source": [
    "    Similarly to ScheduledDay feature, this feature is no longer needed since feature engineering has been done.¶"
   ]
  },
  {
   "cell_type": "code",
   "execution_count": 39,
   "metadata": {},
   "outputs": [],
   "source": [
    "data = data.drop(\"AppointmentDay\", axis=1)"
   ]
  },
  {
   "cell_type": "code",
   "execution_count": 40,
   "metadata": {},
   "outputs": [
    {
     "name": "stdout",
     "output_type": "stream",
     "text": [
      "<class 'pandas.core.frame.DataFrame'>\n",
      "RangeIndex: 499 entries, 0 to 498\n",
      "Data columns (total 18 columns):\n",
      " #   Column             Non-Null Count  Dtype \n",
      "---  ------             --------------  ----- \n",
      " 0   PatientId          499 non-null    int64 \n",
      " 1   AppointmentID      499 non-null    int64 \n",
      " 2   Gender             499 non-null    object\n",
      " 3   Age                499 non-null    int64 \n",
      " 4   Neighbourhood      499 non-null    object\n",
      " 5   Scholarship        499 non-null    int64 \n",
      " 6   Hipertension       499 non-null    int64 \n",
      " 7   Diabetes           499 non-null    int64 \n",
      " 8   Alcoholism         499 non-null    int64 \n",
      " 9   Handcap            499 non-null    int64 \n",
      " 10  SMS_received       499 non-null    int64 \n",
      " 11  No-show            499 non-null    object\n",
      " 12  Scheduled_Year     499 non-null    int64 \n",
      " 13  Scheduled_Month    499 non-null    int64 \n",
      " 14  Scheduled_Date     499 non-null    int64 \n",
      " 15  Appointment_Year   499 non-null    int64 \n",
      " 16  Appointment_Month  499 non-null    int64 \n",
      " 17  Appointment_Date   499 non-null    int64 \n",
      "dtypes: int64(15), object(3)\n",
      "memory usage: 70.3+ KB\n"
     ]
    }
   ],
   "source": [
    "data.info()"
   ]
  },
  {
   "cell_type": "markdown",
   "metadata": {},
   "source": [
    "#### Moving to the next feature: Neighbourhood"
   ]
  },
  {
   "cell_type": "code",
   "execution_count": 41,
   "metadata": {},
   "outputs": [
    {
     "data": {
      "text/plain": [
       "NOVA PALESTINA         8.216433\n",
       "SÃO CRISTÓVÃO          7.815631\n",
       "BONFIM                 7.615230\n",
       "ANDORINHAS             6.813627\n",
       "ITARARÉ                6.212425\n",
       "CONQUISTA              5.410822\n",
       "TABUAZEIRO             5.410822\n",
       "JABOUR                 5.010020\n",
       "MARIA ORTIZ            4.809619\n",
       "CARATOÍRA              4.008016\n",
       "JARDIM CAMBURI         3.406814\n",
       "SANTO ANTÔNIO          3.206413\n",
       "DA PENHA               2.605210\n",
       "SANTA MARTHA           2.004008\n",
       "MARUÍPE                1.803607\n",
       "PRAIA DO SUÁ           1.803607\n",
       "JOANA D´ARC            1.603206\n",
       "CONSOLAÇÃO             1.603206\n",
       "BELA VISTA             1.402806\n",
       "SANTOS DUMONT          1.202405\n",
       "JARDIM DA PENHA        1.202405\n",
       "GRANDE VITÓRIA         1.202405\n",
       "REPÚBLICA              1.202405\n",
       "SÃO BENEDITO           1.202405\n",
       "SÃO PEDRO              1.002004\n",
       "GOIABEIRAS             1.002004\n",
       "MÁRIO CYPRESTE         1.002004\n",
       "ARIOVALDO FAVALESSA    0.801603\n",
       "RESISTÊNCIA            0.801603\n",
       "CENTRO                 0.801603\n",
       "REDENÇÃO               0.601202\n",
       "BOA VISTA              0.601202\n",
       "ILHA DE SANTA MARIA    0.601202\n",
       "SOLON BORGES           0.601202\n",
       "SANTO ANDRÉ            0.601202\n",
       "UNIVERSITÁRIO          0.400802\n",
       "PRAIA DO CANTO         0.400802\n",
       "JUCUTUQUARA            0.400802\n",
       "PARQUE MOSCOSO         0.400802\n",
       "DO MOSCOSO             0.400802\n",
       "GURIGICA               0.400802\n",
       "SANTA HELENA           0.200401\n",
       "ILHA DO FRADE          0.200401\n",
       "PONTAL DE CAMBURI      0.200401\n",
       "BENTO FERREIRA         0.200401\n",
       "ILHA DAS CAIEIRAS      0.200401\n",
       "ANTÔNIO HONÓRIO        0.200401\n",
       "MONTE BELO             0.200401\n",
       "MATA DA PRAIA          0.200401\n",
       "SANTA CLARA            0.200401\n",
       "SÃO JOSÉ               0.200401\n",
       "INHANGUETÁ             0.200401\n",
       "MORADA DE CAMBURI      0.200401\n",
       "Name: Neighbourhood, dtype: float64"
      ]
     },
     "execution_count": 41,
     "metadata": {},
     "output_type": "execute_result"
    }
   ],
   "source": [
    "data[\"Neighbourhood\"].value_counts(normalize=True)*100"
   ]
  },
  {
   "cell_type": "markdown",
   "metadata": {},
   "source": [
    "    The \"Neighbourhood\" feature's length is 81 and the value of each in percentage, as shown above, does not really give any meaningful information. Will just drop this feature."
   ]
  },
  {
   "cell_type": "code",
   "execution_count": 42,
   "metadata": {},
   "outputs": [],
   "source": [
    "data = data.drop(\"Neighbourhood\", axis=1)"
   ]
  },
  {
   "cell_type": "code",
   "execution_count": 43,
   "metadata": {},
   "outputs": [
    {
     "name": "stdout",
     "output_type": "stream",
     "text": [
      "<class 'pandas.core.frame.DataFrame'>\n",
      "RangeIndex: 499 entries, 0 to 498\n",
      "Data columns (total 17 columns):\n",
      " #   Column             Non-Null Count  Dtype \n",
      "---  ------             --------------  ----- \n",
      " 0   PatientId          499 non-null    int64 \n",
      " 1   AppointmentID      499 non-null    int64 \n",
      " 2   Gender             499 non-null    object\n",
      " 3   Age                499 non-null    int64 \n",
      " 4   Scholarship        499 non-null    int64 \n",
      " 5   Hipertension       499 non-null    int64 \n",
      " 6   Diabetes           499 non-null    int64 \n",
      " 7   Alcoholism         499 non-null    int64 \n",
      " 8   Handcap            499 non-null    int64 \n",
      " 9   SMS_received       499 non-null    int64 \n",
      " 10  No-show            499 non-null    object\n",
      " 11  Scheduled_Year     499 non-null    int64 \n",
      " 12  Scheduled_Month    499 non-null    int64 \n",
      " 13  Scheduled_Date     499 non-null    int64 \n",
      " 14  Appointment_Year   499 non-null    int64 \n",
      " 15  Appointment_Month  499 non-null    int64 \n",
      " 16  Appointment_Date   499 non-null    int64 \n",
      "dtypes: int64(15), object(2)\n",
      "memory usage: 66.4+ KB\n"
     ]
    }
   ],
   "source": [
    "data.info()"
   ]
  },
  {
   "cell_type": "markdown",
   "metadata": {},
   "source": [
    "Next is our target feature or y-variable: No-show. Yes is number of people who did not show up to the appointment."
   ]
  },
  {
   "cell_type": "code",
   "execution_count": 44,
   "metadata": {},
   "outputs": [
    {
     "data": {
      "text/plain": [
       "No     410\n",
       "Yes     89\n",
       "Name: No-show, dtype: int64"
      ]
     },
     "execution_count": 44,
     "metadata": {},
     "output_type": "execute_result"
    }
   ],
   "source": [
    "data[\"No-show\"].value_counts()"
   ]
  },
  {
   "cell_type": "code",
   "execution_count": 45,
   "metadata": {},
   "outputs": [
    {
     "data": {
      "text/plain": [
       "No     82.164329\n",
       "Yes    17.835671\n",
       "Name: No-show, dtype: float64"
      ]
     },
     "execution_count": 45,
     "metadata": {},
     "output_type": "execute_result"
    }
   ],
   "source": [
    "data[\"No-show\"].value_counts(normalize=True)*100"
   ]
  },
  {
   "cell_type": "code",
   "execution_count": 46,
   "metadata": {},
   "outputs": [
    {
     "data": {
      "image/png": "[encoded data removed]",
      "text/plain": [
       "<Figure size 864x504 with 1 Axes>"
      ]
     },
     "metadata": {
      "needs_background": "light"
     },
     "output_type": "display_data"
    }
   ],
   "source": [
    "plt.figure(figsize=(12,7));\n",
    "sns.set_context(\"paper\", font_scale=1.5);\n",
    "sns.countplot(x=data[\"No-show\"], color=\"pink\");"
   ]
  },
  {
   "cell_type": "markdown",
   "metadata": {},
   "source": [
    "About 20% of the patients did not show up to the appointments. This is significant, considering the healthcare professionals, who anticipated the patient, and became idled for the next 30 minutes or 1 hour. Overall, a healthcare worker will be idling (not doing anything) 20% of the time, which is not productive from the finance perspective."
   ]
  },
  {
   "cell_type": "markdown",
   "metadata": {},
   "source": [
    "*The target-feature will be mapped as a binary classification: Yes as 1, No as 0.*"
   ]
  },
  {
   "cell_type": "code",
   "execution_count": 47,
   "metadata": {},
   "outputs": [],
   "source": [
    "data[\"No-show\"] = data[\"No-show\"].map({\"Yes\": 1, \"No\": 0})"
   ]
  },
  {
   "cell_type": "code",
   "execution_count": 48,
   "metadata": {},
   "outputs": [
    {
     "data": {
      "text/plain": [
       "0    410\n",
       "1     89\n",
       "Name: No-show, dtype: int64"
      ]
     },
     "execution_count": 48,
     "metadata": {},
     "output_type": "execute_result"
    }
   ],
   "source": [
    "data[\"No-show\"].value_counts()"
   ]
  },
  {
   "cell_type": "code",
   "execution_count": 49,
   "metadata": {},
   "outputs": [
    {
     "name": "stdout",
     "output_type": "stream",
     "text": [
      "<class 'pandas.core.frame.DataFrame'>\n",
      "RangeIndex: 499 entries, 0 to 498\n",
      "Data columns (total 17 columns):\n",
      " #   Column             Non-Null Count  Dtype \n",
      "---  ------             --------------  ----- \n",
      " 0   PatientId          499 non-null    int64 \n",
      " 1   AppointmentID      499 non-null    int64 \n",
      " 2   Gender             499 non-null    object\n",
      " 3   Age                499 non-null    int64 \n",
      " 4   Scholarship        499 non-null    int64 \n",
      " 5   Hipertension       499 non-null    int64 \n",
      " 6   Diabetes           499 non-null    int64 \n",
      " 7   Alcoholism         499 non-null    int64 \n",
      " 8   Handcap            499 non-null    int64 \n",
      " 9   SMS_received       499 non-null    int64 \n",
      " 10  No-show            499 non-null    int64 \n",
      " 11  Scheduled_Year     499 non-null    int64 \n",
      " 12  Scheduled_Month    499 non-null    int64 \n",
      " 13  Scheduled_Date     499 non-null    int64 \n",
      " 14  Appointment_Year   499 non-null    int64 \n",
      " 15  Appointment_Month  499 non-null    int64 \n",
      " 16  Appointment_Date   499 non-null    int64 \n",
      "dtypes: int64(16), object(1)\n",
      "memory usage: 66.4+ KB\n"
     ]
    }
   ],
   "source": [
    "data.info()"
   ]
  },
  {
   "cell_type": "markdown",
   "metadata": {},
   "source": [
    "*The AppointmentID is a unique identifier for each appointment made, which does not provide meaningful information in this project. Will drop.*"
   ]
  },
  {
   "cell_type": "code",
   "execution_count": 50,
   "metadata": {},
   "outputs": [],
   "source": [
    "data = data.drop(\"AppointmentID\", axis=1)"
   ]
  },
  {
   "cell_type": "code",
   "execution_count": 51,
   "metadata": {},
   "outputs": [
    {
     "data": {
      "text/plain": [
       "0    440\n",
       "1     59\n",
       "Name: Scholarship, dtype: int64"
      ]
     },
     "execution_count": 51,
     "metadata": {},
     "output_type": "execute_result"
    }
   ],
   "source": [
    "data[\"Scholarship\"].value_counts()"
   ]
  },
  {
   "cell_type": "code",
   "execution_count": 52,
   "metadata": {},
   "outputs": [
    {
     "data": {
      "text/plain": [
       "0     26\n",
       "1     17\n",
       "8     14\n",
       "62    13\n",
       "39    12\n",
       "      ..\n",
       "85     1\n",
       "77     1\n",
       "73     1\n",
       "81     1\n",
       "87     1\n",
       "Name: Age, Length: 86, dtype: int64"
      ]
     },
     "execution_count": 52,
     "metadata": {},
     "output_type": "execute_result"
    }
   ],
   "source": [
    "data[\"Age\"].value_counts()"
   ]
  },
  {
   "cell_type": "markdown",
   "metadata": {},
   "source": [
    "The \"Age\" feature as -1 is illogical. Will just drop this observation, instead of replacing it with a speculated value(mean/mode)."
   ]
  },
  {
   "cell_type": "code",
   "execution_count": 53,
   "metadata": {},
   "outputs": [
    {
     "data": {
      "text/plain": [
       "0"
      ]
     },
     "execution_count": 53,
     "metadata": {},
     "output_type": "execute_result"
    }
   ],
   "source": [
    "data[\"Age\"].min()"
   ]
  },
  {
   "cell_type": "code",
   "execution_count": 54,
   "metadata": {},
   "outputs": [],
   "source": [
    "#dropping the age -1\n",
    "data = data.drop(data[data[\"Age\"] < 0].index)"
   ]
  },
  {
   "cell_type": "code",
   "execution_count": 55,
   "metadata": {},
   "outputs": [
    {
     "data": {
      "text/plain": [
       "0     26\n",
       "1     17\n",
       "8     14\n",
       "62    13\n",
       "39    12\n",
       "      ..\n",
       "85     1\n",
       "77     1\n",
       "73     1\n",
       "81     1\n",
       "87     1\n",
       "Name: Age, Length: 86, dtype: int64"
      ]
     },
     "execution_count": 55,
     "metadata": {},
     "output_type": "execute_result"
    }
   ],
   "source": [
    "data[\"Age\"].value_counts()"
   ]
  },
  {
   "cell_type": "code",
   "execution_count": 56,
   "metadata": {},
   "outputs": [
    {
     "data": {
      "image/png": "[encoded data removed]",
      "text/plain": [
       "<Figure size 864x504 with 1 Axes>"
      ]
     },
     "metadata": {
      "needs_background": "light"
     },
     "output_type": "display_data"
    }
   ],
   "source": [
    "plt.figure(figsize=(12,7));\n",
    "sns.kdeplot(x=\"Scheduled_Date\", y=data[\"Age\"], data=data, hue=\"No-show\", fill=True);"
   ]
  },
  {
   "cell_type": "markdown",
   "metadata": {},
   "source": [
    "*Visualizing the no-show population in appointment scheduled date. Note that the majority of patients, who did not show up is from age 0 to 60s and evenly spread across all days in a month. There is not much pattern recognized here but an assumption is that on a given day, there will be 20% of patients would not show up to the appointment.*"
   ]
  },
  {
   "cell_type": "markdown",
   "metadata": {},
   "source": [
    "Continuing with the rest of the features, which are in binary classification so not much cleansing to do."
   ]
  },
  {
   "cell_type": "code",
   "execution_count": 57,
   "metadata": {},
   "outputs": [
    {
     "data": {
      "text/plain": [
       "0    407\n",
       "1     92\n",
       "Name: Hipertension, dtype: int64"
      ]
     },
     "execution_count": 57,
     "metadata": {},
     "output_type": "execute_result"
    }
   ],
   "source": [
    "data[\"Hipertension\"].value_counts()"
   ]
  },
  {
   "cell_type": "code",
   "execution_count": 58,
   "metadata": {},
   "outputs": [
    {
     "data": {
      "text/plain": [
       "0    461\n",
       "1     38\n",
       "Name: Diabetes, dtype: int64"
      ]
     },
     "execution_count": 58,
     "metadata": {},
     "output_type": "execute_result"
    }
   ],
   "source": [
    "data[\"Diabetes\"].value_counts()"
   ]
  },
  {
   "cell_type": "code",
   "execution_count": 59,
   "metadata": {},
   "outputs": [
    {
     "data": {
      "text/plain": [
       "0    489\n",
       "1     10\n",
       "Name: Alcoholism, dtype: int64"
      ]
     },
     "execution_count": 59,
     "metadata": {},
     "output_type": "execute_result"
    }
   ],
   "source": [
    "data[\"Alcoholism\"].value_counts()"
   ]
  },
  {
   "cell_type": "code",
   "execution_count": 60,
   "metadata": {},
   "outputs": [
    {
     "data": {
      "text/plain": [
       "0    492\n",
       "1      7\n",
       "Name: Handcap, dtype: int64"
      ]
     },
     "execution_count": 60,
     "metadata": {},
     "output_type": "execute_result"
    }
   ],
   "source": [
    "data[\"Handcap\"].value_counts()"
   ]
  },
  {
   "cell_type": "code",
   "execution_count": 61,
   "metadata": {},
   "outputs": [
    {
     "data": {
      "text/plain": [
       "0    300\n",
       "1    199\n",
       "Name: SMS_received, dtype: int64"
      ]
     },
     "execution_count": 61,
     "metadata": {},
     "output_type": "execute_result"
    }
   ],
   "source": [
    "data[\"SMS_received\"].value_counts()"
   ]
  },
  {
   "cell_type": "code",
   "execution_count": 62,
   "metadata": {},
   "outputs": [
    {
     "data": {
      "text/plain": [
       "0    60.12024\n",
       "1    39.87976\n",
       "Name: SMS_received, dtype: float64"
      ]
     },
     "execution_count": 62,
     "metadata": {},
     "output_type": "execute_result"
    }
   ],
   "source": [
    "data[\"SMS_received\"].value_counts(normalize=True)*100"
   ]
  },
  {
   "cell_type": "markdown",
   "metadata": {},
   "source": [
    "*Note that almost 32% of the patients received SMS text (assuming it is a reminder for an appointment). The question is why not all patients receive the same feature? Considering self-opt-out VS patients do not own mobile phones. This is pretty common in under-served population area. This feature can be potentially impactful in the desired outcome and is worthy of further exploration by healthcare administrators.*"
   ]
  },
  {
   "cell_type": "markdown",
   "metadata": {},
   "source": [
    "The feature \"PatientId\" is a unique identifier, which is not a meaningful data. Will just drop this feature."
   ]
  },
  {
   "cell_type": "code",
   "execution_count": 63,
   "metadata": {},
   "outputs": [],
   "source": [
    "data = data.drop(\"PatientId\", axis=1)"
   ]
  },
  {
   "cell_type": "markdown",
   "metadata": {},
   "source": [
    "Gender gives us almost the same proportion in data length, missed appointment, and made to the appointment. It does not look like it is a meaningful feature. Will drop this feature."
   ]
  },
  {
   "cell_type": "code",
   "execution_count": 64,
   "metadata": {},
   "outputs": [],
   "source": [
    "data = data.drop(\"Gender\", axis=1)"
   ]
  },
  {
   "cell_type": "markdown",
   "metadata": {},
   "source": [
    "### Preparing data for PCA using standard scaler from the sklearn library"
   ]
  },
  {
   "cell_type": "code",
   "execution_count": 65,
   "metadata": {},
   "outputs": [],
   "source": [
    "from sklearn.preprocessing import StandardScaler"
   ]
  },
  {
   "cell_type": "code",
   "execution_count": 66,
   "metadata": {},
   "outputs": [],
   "source": [
    "scaler = StandardScaler()"
   ]
  },
  {
   "cell_type": "code",
   "execution_count": 67,
   "metadata": {
    "scrolled": true
   },
   "outputs": [],
   "source": [
    "scaled_data = scaler.fit_transform(data)"
   ]
  },
  {
   "cell_type": "code",
   "execution_count": 68,
   "metadata": {},
   "outputs": [
    {
     "data": {
      "text/plain": [
       "array([[ 1.25598891, -0.36618426,  2.10331002, ...,  0.        ,\n",
       "         0.        ,  0.        ],\n",
       "       [ 0.99569745, -0.36618426, -0.47544109, ...,  0.        ,\n",
       "         0.        ,  0.        ],\n",
       "       [ 1.25598891, -0.36618426, -0.47544109, ...,  0.        ,\n",
       "         0.        ,  0.        ],\n",
       "       ...,\n",
       "       [-0.30575988, -0.36618426, -0.47544109, ...,  0.        ,\n",
       "         0.        ,  0.        ],\n",
       "       [ 0.25820496, -0.36618426, -0.47544109, ...,  0.        ,\n",
       "         0.        ,  0.        ],\n",
       "       [-0.52266944, -0.36618426, -0.47544109, ...,  0.        ,\n",
       "         0.        ,  0.        ]])"
      ]
     },
     "execution_count": 68,
     "metadata": {},
     "output_type": "execute_result"
    }
   ],
   "source": [
    "scaled_data"
   ]
  },
  {
   "cell_type": "code",
   "execution_count": 69,
   "metadata": {},
   "outputs": [],
   "source": [
    "#Importing Principle Component Analysis from the sklearn library\n",
    "\n",
    "from sklearn.decomposition import PCA"
   ]
  },
  {
   "cell_type": "markdown",
   "metadata": {},
   "source": [
    "Number of components to be set at 2"
   ]
  },
  {
   "cell_type": "code",
   "execution_count": 70,
   "metadata": {},
   "outputs": [],
   "source": [
    "pca = PCA(n_components=2)"
   ]
  },
  {
   "cell_type": "code",
   "execution_count": 71,
   "metadata": {},
   "outputs": [
    {
     "data": {
      "text/plain": [
       "PCA(n_components=2)"
      ]
     },
     "execution_count": 71,
     "metadata": {},
     "output_type": "execute_result"
    }
   ],
   "source": [
    "pca.fit(scaled_data)"
   ]
  },
  {
   "cell_type": "code",
   "execution_count": 72,
   "metadata": {},
   "outputs": [],
   "source": [
    "x_pca = pca.transform(scaled_data)"
   ]
  },
  {
   "cell_type": "code",
   "execution_count": 73,
   "metadata": {},
   "outputs": [
    {
     "data": {
      "text/plain": [
       "(499, 14)"
      ]
     },
     "execution_count": 73,
     "metadata": {},
     "output_type": "execute_result"
    }
   ],
   "source": [
    "scaled_data.shape"
   ]
  },
  {
   "cell_type": "markdown",
   "metadata": {},
   "source": [
    "Note that the scaled data has been changed from 14 features to 3 main components in PCA"
   ]
  },
  {
   "cell_type": "code",
   "execution_count": 74,
   "metadata": {},
   "outputs": [
    {
     "data": {
      "text/plain": [
       "(499, 2)"
      ]
     },
     "execution_count": 74,
     "metadata": {},
     "output_type": "execute_result"
    }
   ],
   "source": [
    "x_pca.shape"
   ]
  },
  {
   "cell_type": "code",
   "execution_count": 75,
   "metadata": {},
   "outputs": [
    {
     "data": {
      "image/png": "[encoded data removed]",
      "text/plain": [
       "<Figure size 576x432 with 1 Axes>"
      ]
     },
     "metadata": {
      "needs_background": "light"
     },
     "output_type": "display_data"
    }
   ],
   "source": [
    "plt.figure(figsize=(8,6));\n",
    "plt.scatter(x_pca[:,0],x_pca[:,1],c=data['No-show'],cmap='magma', alpha=0.3);\n",
    "plt.xlabel('First principal component');\n",
    "plt.ylabel('Second Principal Component');"
   ]
  },
  {
   "cell_type": "code",
   "execution_count": 76,
   "metadata": {},
   "outputs": [],
   "source": [
    "features = ['Age', 'Scholarship', 'Hipertension', 'Diabetes', 'Alcoholism','Handcap', \n",
    "                    'SMS_received', 'No-show', 'Scheduled_Year', 'Scheduled_Month','Scheduled_Date', \n",
    "                    'Appointment_Year', 'Appointment_Month','Appointment_Date']"
   ]
  },
  {
   "cell_type": "code",
   "execution_count": 77,
   "metadata": {},
   "outputs": [],
   "source": [
    "data_comp = pd.DataFrame(pca.components_, columns=features)"
   ]
  },
  {
   "cell_type": "code",
   "execution_count": 78,
   "metadata": {},
   "outputs": [
    {
     "data": {
      "text/plain": [
       "<AxesSubplot:>"
      ]
     },
     "execution_count": 78,
     "metadata": {},
     "output_type": "execute_result"
    },
    {
     "data": {
      "image/png": "[encoded data removed]",
      "text/plain": [
       "<Figure size 864x432 with 2 Axes>"
      ]
     },
     "metadata": {
      "needs_background": "light"
     },
     "output_type": "display_data"
    }
   ],
   "source": [
    "plt.figure(figsize=(12,6))\n",
    "sns.heatmap(data_comp,cmap='plasma',)"
   ]
  },
  {
   "cell_type": "markdown",
   "metadata": {},
   "source": [
    "*Finally, the \"Appointment Date\" and \"Scheduled Date\" are shown to be the features that explain the most of the variance for the target feature. This is followed by Age, hypertension, and diabetes. The feature that has the least is Appointment Month, which is shown in blue*\n",
    "\n",
    "*Overall, SMS text was expected to the one of the key components for the target feature, but the heatmap does not show that is the case.* "
   ]
  },
  {
   "cell_type": "code",
   "execution_count": 79,
   "metadata": {},
   "outputs": [
    {
     "data": {
      "text/plain": [
       "PCA(n_components=2)"
      ]
     },
     "execution_count": 79,
     "metadata": {},
     "output_type": "execute_result"
    }
   ],
   "source": [
    "pca"
   ]
  },
  {
   "cell_type": "code",
   "execution_count": 80,
   "metadata": {},
   "outputs": [
    {
     "data": {
      "text/plain": [
       "array([0.20314345, 0.17315524])"
      ]
     },
     "execution_count": 80,
     "metadata": {},
     "output_type": "execute_result"
    }
   ],
   "source": [
    "pca.explained_variance_ratio_"
   ]
  },
  {
   "cell_type": "code",
   "execution_count": 81,
   "metadata": {},
   "outputs": [
    {
     "data": {
      "text/plain": [
       "array([ 0.15066827,  0.05855785,  0.12430022,  0.14515361, -0.08740026,\n",
       "       -0.01060737,  0.65761937,  0.26385138,  0.        , -0.37915636,\n",
       "       -0.53268967,  0.        ,  0.        ,  0.        ])"
      ]
     },
     "execution_count": 81,
     "metadata": {},
     "output_type": "execute_result"
    }
   ],
   "source": [
    "pca.components_.T[:,1]"
   ]
  },
  {
   "cell_type": "markdown",
   "metadata": {},
   "source": [
    "### LDA\n"
   ]
  },
  {
   "cell_type": "code",
   "execution_count": 82,
   "metadata": {},
   "outputs": [],
   "source": [
    "from sklearn.discriminant_analysis import LinearDiscriminantAnalysis"
   ]
  },
  {
   "cell_type": "code",
   "execution_count": 83,
   "metadata": {},
   "outputs": [],
   "source": [
    "X=data[['Age', 'Scholarship', 'Hipertension', 'Diabetes', 'Alcoholism','Handcap', \n",
    "                    'SMS_received', 'Scheduled_Year', 'Scheduled_Month','Scheduled_Date', \n",
    "                    'Appointment_Year', 'Appointment_Month','Appointment_Date']]"
   ]
  },
  {
   "cell_type": "code",
   "execution_count": 84,
   "metadata": {},
   "outputs": [
    {
     "data": {
      "text/html": [
       "<div>\n",
       "<style scoped>\n",
       "    .dataframe tbody tr th:only-of-type {\n",
       "        vertical-align: middle;\n",
       "    }\n",
       "\n",
       "    .dataframe tbody tr th {\n",
       "        vertical-align: top;\n",
       "    }\n",
       "\n",
       "    .dataframe thead th {\n",
       "        text-align: right;\n",
       "    }\n",
       "</style>\n",
       "<table border=\"1\" class=\"dataframe\">\n",
       "  <thead>\n",
       "    <tr style=\"text-align: right;\">\n",
       "      <th></th>\n",
       "      <th>Age</th>\n",
       "      <th>Scholarship</th>\n",
       "      <th>Hipertension</th>\n",
       "      <th>Diabetes</th>\n",
       "      <th>Alcoholism</th>\n",
       "      <th>Handcap</th>\n",
       "      <th>SMS_received</th>\n",
       "      <th>Scheduled_Year</th>\n",
       "      <th>Scheduled_Month</th>\n",
       "      <th>Scheduled_Date</th>\n",
       "      <th>Appointment_Year</th>\n",
       "      <th>Appointment_Month</th>\n",
       "      <th>Appointment_Date</th>\n",
       "    </tr>\n",
       "  </thead>\n",
       "  <tbody>\n",
       "    <tr>\n",
       "      <th>0</th>\n",
       "      <td>62</td>\n",
       "      <td>0</td>\n",
       "      <td>1</td>\n",
       "      <td>0</td>\n",
       "      <td>0</td>\n",
       "      <td>0</td>\n",
       "      <td>0</td>\n",
       "      <td>2016</td>\n",
       "      <td>1</td>\n",
       "      <td>29</td>\n",
       "      <td>2016</td>\n",
       "      <td>4</td>\n",
       "      <td>29</td>\n",
       "    </tr>\n",
       "    <tr>\n",
       "      <th>1</th>\n",
       "      <td>56</td>\n",
       "      <td>0</td>\n",
       "      <td>0</td>\n",
       "      <td>0</td>\n",
       "      <td>0</td>\n",
       "      <td>0</td>\n",
       "      <td>0</td>\n",
       "      <td>2016</td>\n",
       "      <td>1</td>\n",
       "      <td>29</td>\n",
       "      <td>2016</td>\n",
       "      <td>4</td>\n",
       "      <td>29</td>\n",
       "    </tr>\n",
       "    <tr>\n",
       "      <th>2</th>\n",
       "      <td>62</td>\n",
       "      <td>0</td>\n",
       "      <td>0</td>\n",
       "      <td>0</td>\n",
       "      <td>0</td>\n",
       "      <td>0</td>\n",
       "      <td>0</td>\n",
       "      <td>2016</td>\n",
       "      <td>1</td>\n",
       "      <td>29</td>\n",
       "      <td>2016</td>\n",
       "      <td>4</td>\n",
       "      <td>29</td>\n",
       "    </tr>\n",
       "    <tr>\n",
       "      <th>3</th>\n",
       "      <td>8</td>\n",
       "      <td>0</td>\n",
       "      <td>0</td>\n",
       "      <td>0</td>\n",
       "      <td>0</td>\n",
       "      <td>0</td>\n",
       "      <td>0</td>\n",
       "      <td>2016</td>\n",
       "      <td>1</td>\n",
       "      <td>29</td>\n",
       "      <td>2016</td>\n",
       "      <td>4</td>\n",
       "      <td>29</td>\n",
       "    </tr>\n",
       "    <tr>\n",
       "      <th>4</th>\n",
       "      <td>56</td>\n",
       "      <td>0</td>\n",
       "      <td>1</td>\n",
       "      <td>1</td>\n",
       "      <td>0</td>\n",
       "      <td>0</td>\n",
       "      <td>0</td>\n",
       "      <td>2016</td>\n",
       "      <td>1</td>\n",
       "      <td>29</td>\n",
       "      <td>2016</td>\n",
       "      <td>4</td>\n",
       "      <td>29</td>\n",
       "    </tr>\n",
       "    <tr>\n",
       "      <th>...</th>\n",
       "      <td>...</td>\n",
       "      <td>...</td>\n",
       "      <td>...</td>\n",
       "      <td>...</td>\n",
       "      <td>...</td>\n",
       "      <td>...</td>\n",
       "      <td>...</td>\n",
       "      <td>...</td>\n",
       "      <td>...</td>\n",
       "      <td>...</td>\n",
       "      <td>...</td>\n",
       "      <td>...</td>\n",
       "      <td>...</td>\n",
       "    </tr>\n",
       "    <tr>\n",
       "      <th>494</th>\n",
       "      <td>19</td>\n",
       "      <td>0</td>\n",
       "      <td>0</td>\n",
       "      <td>0</td>\n",
       "      <td>0</td>\n",
       "      <td>0</td>\n",
       "      <td>1</td>\n",
       "      <td>2016</td>\n",
       "      <td>1</td>\n",
       "      <td>18</td>\n",
       "      <td>2016</td>\n",
       "      <td>4</td>\n",
       "      <td>29</td>\n",
       "    </tr>\n",
       "    <tr>\n",
       "      <th>495</th>\n",
       "      <td>32</td>\n",
       "      <td>0</td>\n",
       "      <td>0</td>\n",
       "      <td>0</td>\n",
       "      <td>0</td>\n",
       "      <td>0</td>\n",
       "      <td>0</td>\n",
       "      <td>2016</td>\n",
       "      <td>1</td>\n",
       "      <td>27</td>\n",
       "      <td>2016</td>\n",
       "      <td>4</td>\n",
       "      <td>29</td>\n",
       "    </tr>\n",
       "    <tr>\n",
       "      <th>496</th>\n",
       "      <td>26</td>\n",
       "      <td>0</td>\n",
       "      <td>0</td>\n",
       "      <td>0</td>\n",
       "      <td>0</td>\n",
       "      <td>0</td>\n",
       "      <td>1</td>\n",
       "      <td>2016</td>\n",
       "      <td>0</td>\n",
       "      <td>16</td>\n",
       "      <td>2016</td>\n",
       "      <td>4</td>\n",
       "      <td>29</td>\n",
       "    </tr>\n",
       "    <tr>\n",
       "      <th>497</th>\n",
       "      <td>39</td>\n",
       "      <td>0</td>\n",
       "      <td>0</td>\n",
       "      <td>0</td>\n",
       "      <td>0</td>\n",
       "      <td>0</td>\n",
       "      <td>1</td>\n",
       "      <td>2016</td>\n",
       "      <td>0</td>\n",
       "      <td>17</td>\n",
       "      <td>2016</td>\n",
       "      <td>4</td>\n",
       "      <td>29</td>\n",
       "    </tr>\n",
       "    <tr>\n",
       "      <th>498</th>\n",
       "      <td>21</td>\n",
       "      <td>0</td>\n",
       "      <td>0</td>\n",
       "      <td>0</td>\n",
       "      <td>0</td>\n",
       "      <td>0</td>\n",
       "      <td>1</td>\n",
       "      <td>2016</td>\n",
       "      <td>0</td>\n",
       "      <td>17</td>\n",
       "      <td>2016</td>\n",
       "      <td>4</td>\n",
       "      <td>29</td>\n",
       "    </tr>\n",
       "  </tbody>\n",
       "</table>\n",
       "<p>499 rows × 13 columns</p>\n",
       "</div>"
      ],
      "text/plain": [
       "     Age  Scholarship  Hipertension  Diabetes  Alcoholism  Handcap  \\\n",
       "0     62            0             1         0           0        0   \n",
       "1     56            0             0         0           0        0   \n",
       "2     62            0             0         0           0        0   \n",
       "3      8            0             0         0           0        0   \n",
       "4     56            0             1         1           0        0   \n",
       "..   ...          ...           ...       ...         ...      ...   \n",
       "494   19            0             0         0           0        0   \n",
       "495   32            0             0         0           0        0   \n",
       "496   26            0             0         0           0        0   \n",
       "497   39            0             0         0           0        0   \n",
       "498   21            0             0         0           0        0   \n",
       "\n",
       "     SMS_received  Scheduled_Year  Scheduled_Month  Scheduled_Date  \\\n",
       "0               0            2016                1              29   \n",
       "1               0            2016                1              29   \n",
       "2               0            2016                1              29   \n",
       "3               0            2016                1              29   \n",
       "4               0            2016                1              29   \n",
       "..            ...             ...              ...             ...   \n",
       "494             1            2016                1              18   \n",
       "495             0            2016                1              27   \n",
       "496             1            2016                0              16   \n",
       "497             1            2016                0              17   \n",
       "498             1            2016                0              17   \n",
       "\n",
       "     Appointment_Year  Appointment_Month  Appointment_Date  \n",
       "0                2016                  4                29  \n",
       "1                2016                  4                29  \n",
       "2                2016                  4                29  \n",
       "3                2016                  4                29  \n",
       "4                2016                  4                29  \n",
       "..                ...                ...               ...  \n",
       "494              2016                  4                29  \n",
       "495              2016                  4                29  \n",
       "496              2016                  4                29  \n",
       "497              2016                  4                29  \n",
       "498              2016                  4                29  \n",
       "\n",
       "[499 rows x 13 columns]"
      ]
     },
     "execution_count": 84,
     "metadata": {},
     "output_type": "execute_result"
    }
   ],
   "source": [
    "X"
   ]
  },
  {
   "cell_type": "code",
   "execution_count": 85,
   "metadata": {},
   "outputs": [],
   "source": [
    "y=data['No-show']"
   ]
  },
  {
   "cell_type": "code",
   "execution_count": 86,
   "metadata": {},
   "outputs": [
    {
     "data": {
      "text/plain": [
       "0      0\n",
       "1      0\n",
       "2      0\n",
       "3      0\n",
       "4      0\n",
       "      ..\n",
       "494    0\n",
       "495    0\n",
       "496    0\n",
       "497    0\n",
       "498    0\n",
       "Name: No-show, Length: 499, dtype: int64"
      ]
     },
     "execution_count": 86,
     "metadata": {},
     "output_type": "execute_result"
    }
   ],
   "source": [
    "y"
   ]
  },
  {
   "cell_type": "code",
   "execution_count": 87,
   "metadata": {},
   "outputs": [],
   "source": [
    "from sklearn.preprocessing import StandardScaler\n",
    "\n",
    "sc= StandardScaler()\n",
    "\n",
    "X_new=sc.fit_transform(X)\n"
   ]
  },
  {
   "cell_type": "code",
   "execution_count": 88,
   "metadata": {},
   "outputs": [
    {
     "data": {
      "text/plain": [
       "array([[ 1.25598891, -0.36618426,  2.10331002, -0.28710538, -0.14300314,\n",
       "        -0.11927968, -0.81445278,  0.        ,  0.47544109,  0.73908532,\n",
       "         0.        ,  0.        ,  0.        ],\n",
       "       [ 0.99569745, -0.36618426, -0.47544109, -0.28710538, -0.14300314,\n",
       "        -0.11927968, -0.81445278,  0.        ,  0.47544109,  0.73908532,\n",
       "         0.        ,  0.        ,  0.        ],\n",
       "       [ 1.25598891, -0.36618426, -0.47544109, -0.28710538, -0.14300314,\n",
       "        -0.11927968, -0.81445278,  0.        ,  0.47544109,  0.73908532,\n",
       "         0.        ,  0.        ,  0.        ],\n",
       "       [-1.08663428, -0.36618426, -0.47544109, -0.28710538, -0.14300314,\n",
       "        -0.11927968, -0.81445278,  0.        ,  0.47544109,  0.73908532,\n",
       "         0.        ,  0.        ,  0.        ],\n",
       "       [ 0.99569745, -0.36618426,  2.10331002,  3.48304162, -0.14300314,\n",
       "        -0.11927968, -0.81445278,  0.        ,  0.47544109,  0.73908532,\n",
       "         0.        ,  0.        ,  0.        ],\n",
       "       [ 1.86333567, -0.36618426,  2.10331002, -0.28710538, -0.14300314,\n",
       "        -0.11927968, -0.81445278,  0.        ,  0.47544109,  0.48751399,\n",
       "         0.        ,  0.        ,  0.        ],\n",
       "       [-0.43590561, -0.36618426, -0.47544109, -0.28710538, -0.14300314,\n",
       "        -0.11927968, -0.81445278,  0.        ,  0.47544109,  0.48751399,\n",
       "         0.        ,  0.        ,  0.        ],\n",
       "       [ 0.25820496, -0.36618426, -0.47544109, -0.28710538, -0.14300314,\n",
       "        -0.11927968, -0.81445278,  0.        ,  0.47544109,  0.48751399,\n",
       "         0.        ,  0.        ,  0.        ],\n",
       "       [-0.52266944, -0.36618426, -0.47544109, -0.28710538, -0.14300314,\n",
       "        -0.11927968, -0.81445278,  0.        ,  0.47544109,  0.73908532,\n",
       "         0.        ,  0.        ,  0.        ],\n",
       "       [-0.60943326, -0.36618426, -0.47544109, -0.28710538, -0.14300314,\n",
       "        -0.11927968, -0.81445278,  0.        ,  0.47544109,  0.48751399,\n",
       "         0.        ,  0.        ,  0.        ]])"
      ]
     },
     "execution_count": 88,
     "metadata": {},
     "output_type": "execute_result"
    }
   ],
   "source": [
    "X_new[:10]"
   ]
  },
  {
   "cell_type": "code",
   "execution_count": 89,
   "metadata": {},
   "outputs": [
    {
     "data": {
      "text/plain": [
       "array([0, 1], dtype=int64)"
      ]
     },
     "execution_count": 89,
     "metadata": {},
     "output_type": "execute_result"
    }
   ],
   "source": [
    "y.unique()"
   ]
  },
  {
   "cell_type": "code",
   "execution_count": 90,
   "metadata": {},
   "outputs": [],
   "source": [
    "lda=LinearDiscriminantAnalysis()"
   ]
  },
  {
   "cell_type": "code",
   "execution_count": 91,
   "metadata": {},
   "outputs": [],
   "source": [
    "X_lda=lda.fit_transform(X_new,y)         "
   ]
  },
  {
   "cell_type": "code",
   "execution_count": 92,
   "metadata": {},
   "outputs": [
    {
     "data": {
      "text/plain": [
       "array([[1.81016147],\n",
       "       [1.01687802],\n",
       "       [1.11338641],\n",
       "       [0.24481094],\n",
       "       [1.48104722],\n",
       "       [2.07337834],\n",
       "       [0.52411254],\n",
       "       [0.78146824],\n",
       "       [0.45391244],\n",
       "       [0.45977362]])"
      ]
     },
     "execution_count": 92,
     "metadata": {},
     "output_type": "execute_result"
    }
   ],
   "source": [
    "X_lda[:10]"
   ]
  },
  {
   "cell_type": "code",
   "execution_count": 93,
   "metadata": {},
   "outputs": [
    {
     "data": {
      "image/png": "[encoded data removed]",
      "text/plain": [
       "<Figure size 432x288 with 1 Axes>"
      ]
     },
     "metadata": {
      "needs_background": "light"
     },
     "output_type": "display_data"
    }
   ],
   "source": [
    "plt.scatter(X_lda[:,0],X_lda[:,0],c=y);"
   ]
  },
  {
   "cell_type": "code",
   "execution_count": 94,
   "metadata": {},
   "outputs": [
    {
     "data": {
      "text/plain": [
       "array([1.])"
      ]
     },
     "execution_count": 94,
     "metadata": {},
     "output_type": "execute_result"
    }
   ],
   "source": [
    "lda.explained_variance_ratio_"
   ]
  },
  {
   "cell_type": "markdown",
   "metadata": {},
   "source": [
    "### LLE\n"
   ]
  },
  {
   "cell_type": "code",
   "execution_count": 95,
   "metadata": {},
   "outputs": [],
   "source": [
    "from sklearn.manifold import LocallyLinearEmbedding"
   ]
  },
  {
   "cell_type": "code",
   "execution_count": 96,
   "metadata": {},
   "outputs": [],
   "source": [
    "lle=LocallyLinearEmbedding(n_neighbors=10,n_components=2)"
   ]
  },
  {
   "cell_type": "code",
   "execution_count": 97,
   "metadata": {},
   "outputs": [],
   "source": [
    "X_lle=lle.fit_transform(X)"
   ]
  },
  {
   "cell_type": "code",
   "execution_count": 98,
   "metadata": {},
   "outputs": [
    {
     "data": {
      "image/png": "[encoded data removed]",
      "text/plain": [
       "<Figure size 432x288 with 1 Axes>"
      ]
     },
     "metadata": {
      "needs_background": "light"
     },
     "output_type": "display_data"
    }
   ],
   "source": [
    "plt.scatter(X_lle[:,0],X_lle[:,1]);"
   ]
  },
  {
   "cell_type": "code",
   "execution_count": 99,
   "metadata": {},
   "outputs": [
    {
     "data": {
      "image/png": "[encoded data removed]",
      "text/plain": [
       "<Figure size 432x288 with 1 Axes>"
      ]
     },
     "metadata": {
      "needs_background": "light"
     },
     "output_type": "display_data"
    }
   ],
   "source": [
    "plt.scatter(X_lle[:,0],X_lle[:,1],c='y');"
   ]
  },
  {
   "cell_type": "markdown",
   "metadata": {},
   "source": [
    "### tSNE"
   ]
  },
  {
   "cell_type": "code",
   "execution_count": 100,
   "metadata": {},
   "outputs": [
    {
     "name": "stdout",
     "output_type": "stream",
     "text": [
      "[  8 280 323 359 343  79 432 394 350 436 354  53  66 226  14 290 497 240\n",
      " 280 143 228 363 316  58 400 137  93  86 386 155 364 388 415 385 141 245\n",
      " 211 100   4  91 443 323 135  49 431 193 317 270 183 455 251 336   2 377\n",
      " 105 478 403 482  63 181 283 312 238 369 414 432 303 167 365 294 172 274\n",
      " 192 440 418 437 202 273  72  13 106  30  17  53  68 434 488 347 475 467\n",
      " 181 334   0  13 185 460 362 131  70 131 212 207 394 215 495 444 131 361\n",
      " 176 180 299  36 261 327  38 214  94 226 170 340  95 114 237 119  76 289\n",
      " 314 102 426 406 256 250 183 226 403 309 196 446 306 452 419 407 253   9\n",
      " 432 496 277 409 438 262 165 358 122 116 186 295 107 222 307 286 377  66\n",
      " 243 408 439 273 301 485  89 429 291  16  12 342 466 109 492  67 220 223\n",
      " 276 138 264 473 200 414 396 146 349 375  92  44 245  57 383 256  73 232\n",
      " 182 476 322 144 389 435 346  34 451 350 462 182  77 212 385  14 371 289\n",
      " 148 168  24 477 442 284 466 210 135 478   2  63 369 130 215 145 237 218\n",
      " 250 477 224  74 437 286  67 156 421  82 486 401 394 141  81 373 281 194\n",
      " 143 364 122  11 101 492  38 372 278 311 313  87 179 432 242 181 145 193\n",
      " 298 349 172 144 307 182 183  83 356  42 445 248 246 293 112 208 113 355\n",
      " 258 318 355 465  16  70 309 482 224 431 432 393 177 309 367 162 131 358\n",
      " 139 305 285 292 349 451 410 369  52 164 201 415  85  92 115 382 324 211\n",
      " 119  71 317  93 498 292 123  42 269 304 466  32 294 296 497 181  93 398\n",
      "  38 116 214 165 128 360 187 360 357 297 428 403 204 322 141  87  65 324\n",
      " 182 128 343  83 266 233 321 130 215 204  39 246 292 291  99  26 147 132\n",
      "  39 215  74 463 476 308 428 397 161 143 145 344 151 234  59   8 424  77\n",
      " 303 247 429 281 368 415  10  38 464 215 468 357  60 145 271  85 373 403\n",
      " 148 131 357 202 443  11 112 304 390 474 145 361 204 186 456 251 256 435\n",
      " 377 123 158 110 210 283 234 326 437 101 167 435 480 301 295 344 434 430\n",
      " 316 464 453  80 121  34 209 470  16 303 383 387 375 371 460 217 261 194\n",
      "  64  45 443 137 397 323 126 335 246  82 340 335 397 331  49 344 229 337\n",
      " 212 295 380 294 421  88 403 411  21   0 329 237 385]\n"
     ]
    }
   ],
   "source": [
    "np.random.seed(100)\n",
    "sample=np.random.choice(data.shape[0],499)\n",
    "print(sample)"
   ]
  },
  {
   "cell_type": "code",
   "execution_count": 101,
   "metadata": {},
   "outputs": [
    {
     "data": {
      "text/plain": [
       "(499, 14)"
      ]
     },
     "execution_count": 101,
     "metadata": {},
     "output_type": "execute_result"
    }
   ],
   "source": [
    "X1=data.iloc[sample,:]\n",
    "X1.shape"
   ]
  },
  {
   "cell_type": "code",
   "execution_count": 102,
   "metadata": {},
   "outputs": [
    {
     "name": "stderr",
     "output_type": "stream",
     "text": [
      "C:\\ProgramData\\Anaconda3\\lib\\site-packages\\sklearn\\manifold\\_t_sne.py:780: FutureWarning: The default initialization in TSNE will change from 'random' to 'pca' in 1.2.\n",
      "  warnings.warn(\n",
      "C:\\ProgramData\\Anaconda3\\lib\\site-packages\\sklearn\\manifold\\_t_sne.py:790: FutureWarning: The default learning rate in TSNE will change from 200.0 to 'auto' in 1.2.\n",
      "  warnings.warn(\n"
     ]
    },
    {
     "data": {
      "text/plain": [
       "(499, 2)"
      ]
     },
     "execution_count": 102,
     "metadata": {},
     "output_type": "execute_result"
    }
   ],
   "source": [
    "from sklearn.manifold import TSNE\n",
    "\n",
    "tsne=TSNE(n_components=2,perplexity=30)\n",
    "\n",
    "X_tsne=tsne.fit_transform(X1)\n",
    "X_tsne.shape"
   ]
  },
  {
   "cell_type": "code",
   "execution_count": 103,
   "metadata": {},
   "outputs": [
    {
     "data": {
      "text/plain": [
       "array([-12.152721,   8.858289], dtype=float32)"
      ]
     },
     "execution_count": 103,
     "metadata": {},
     "output_type": "execute_result"
    }
   ],
   "source": [
    "X_tsne[0]"
   ]
  },
  {
   "cell_type": "code",
   "execution_count": 104,
   "metadata": {},
   "outputs": [],
   "source": [
    "df=pd.DataFrame({'X0': X_tsne[:,0],'X1':X_tsne[:,1],'Label':y})"
   ]
  },
  {
   "cell_type": "code",
   "execution_count": 105,
   "metadata": {},
   "outputs": [
    {
     "data": {
      "text/html": [
       "<div>\n",
       "<style scoped>\n",
       "    .dataframe tbody tr th:only-of-type {\n",
       "        vertical-align: middle;\n",
       "    }\n",
       "\n",
       "    .dataframe tbody tr th {\n",
       "        vertical-align: top;\n",
       "    }\n",
       "\n",
       "    .dataframe thead th {\n",
       "        text-align: right;\n",
       "    }\n",
       "</style>\n",
       "<table border=\"1\" class=\"dataframe\">\n",
       "  <thead>\n",
       "    <tr style=\"text-align: right;\">\n",
       "      <th></th>\n",
       "      <th>X0</th>\n",
       "      <th>X1</th>\n",
       "      <th>Label</th>\n",
       "    </tr>\n",
       "  </thead>\n",
       "  <tbody>\n",
       "    <tr>\n",
       "      <th>0</th>\n",
       "      <td>-12.152721</td>\n",
       "      <td>8.858289</td>\n",
       "      <td>0</td>\n",
       "    </tr>\n",
       "    <tr>\n",
       "      <th>1</th>\n",
       "      <td>-9.033928</td>\n",
       "      <td>28.864058</td>\n",
       "      <td>0</td>\n",
       "    </tr>\n",
       "    <tr>\n",
       "      <th>2</th>\n",
       "      <td>9.662874</td>\n",
       "      <td>-26.484818</td>\n",
       "      <td>0</td>\n",
       "    </tr>\n",
       "    <tr>\n",
       "      <th>3</th>\n",
       "      <td>12.595702</td>\n",
       "      <td>11.114767</td>\n",
       "      <td>0</td>\n",
       "    </tr>\n",
       "    <tr>\n",
       "      <th>4</th>\n",
       "      <td>-11.616573</td>\n",
       "      <td>4.359011</td>\n",
       "      <td>0</td>\n",
       "    </tr>\n",
       "    <tr>\n",
       "      <th>...</th>\n",
       "      <td>...</td>\n",
       "      <td>...</td>\n",
       "      <td>...</td>\n",
       "    </tr>\n",
       "    <tr>\n",
       "      <th>494</th>\n",
       "      <td>-7.962462</td>\n",
       "      <td>26.759865</td>\n",
       "      <td>0</td>\n",
       "    </tr>\n",
       "    <tr>\n",
       "      <th>495</th>\n",
       "      <td>7.947182</td>\n",
       "      <td>-26.433975</td>\n",
       "      <td>0</td>\n",
       "    </tr>\n",
       "    <tr>\n",
       "      <th>496</th>\n",
       "      <td>7.367742</td>\n",
       "      <td>-25.952116</td>\n",
       "      <td>0</td>\n",
       "    </tr>\n",
       "    <tr>\n",
       "      <th>497</th>\n",
       "      <td>-9.478392</td>\n",
       "      <td>1.324240</td>\n",
       "      <td>0</td>\n",
       "    </tr>\n",
       "    <tr>\n",
       "      <th>498</th>\n",
       "      <td>-7.892555</td>\n",
       "      <td>-8.044179</td>\n",
       "      <td>0</td>\n",
       "    </tr>\n",
       "  </tbody>\n",
       "</table>\n",
       "<p>499 rows × 3 columns</p>\n",
       "</div>"
      ],
      "text/plain": [
       "            X0         X1  Label\n",
       "0   -12.152721   8.858289      0\n",
       "1    -9.033928  28.864058      0\n",
       "2     9.662874 -26.484818      0\n",
       "3    12.595702  11.114767      0\n",
       "4   -11.616573   4.359011      0\n",
       "..         ...        ...    ...\n",
       "494  -7.962462  26.759865      0\n",
       "495   7.947182 -26.433975      0\n",
       "496   7.367742 -25.952116      0\n",
       "497  -9.478392   1.324240      0\n",
       "498  -7.892555  -8.044179      0\n",
       "\n",
       "[499 rows x 3 columns]"
      ]
     },
     "execution_count": 105,
     "metadata": {},
     "output_type": "execute_result"
    }
   ],
   "source": [
    "df"
   ]
  },
  {
   "cell_type": "code",
   "execution_count": 106,
   "metadata": {},
   "outputs": [
    {
     "name": "stderr",
     "output_type": "stream",
     "text": [
      "C:\\ProgramData\\Anaconda3\\lib\\site-packages\\seaborn\\regression.py:581: UserWarning: The `size` parameter has been renamed to `height`; please update your code.\n",
      "  warnings.warn(msg, UserWarning)\n"
     ]
    },
    {
     "data": {
      "image/png": "[encoded data removed]",
      "text/plain": [
       "<Figure size 559.895x504 with 1 Axes>"
      ]
     },
     "metadata": {
      "needs_background": "light"
     },
     "output_type": "display_data"
    }
   ],
   "source": [
    "import seaborn as sns\n",
    "\n",
    "sns.lmplot(data=df,x='X0',y='X1',hue='Label',size=7,fit_reg=False);"
   ]
  },
  {
   "cell_type": "markdown",
   "metadata": {},
   "source": [
    "### KMeans"
   ]
  },
  {
   "cell_type": "code",
   "execution_count": 107,
   "metadata": {},
   "outputs": [],
   "source": [
    "from sklearn.cluster import KMeans"
   ]
  },
  {
   "cell_type": "code",
   "execution_count": 108,
   "metadata": {},
   "outputs": [
    {
     "name": "stderr",
     "output_type": "stream",
     "text": [
      "C:\\ProgramData\\Anaconda3\\lib\\site-packages\\sklearn\\cluster\\_kmeans.py:1036: UserWarning: KMeans is known to have a memory leak on Windows with MKL, when there are less chunks than available threads. You can avoid it by setting the environment variable OMP_NUM_THREADS=2.\n",
      "  warnings.warn(\n"
     ]
    },
    {
     "data": {
      "image/png": "[encoded data removed]",
      "text/plain": [
       "<Figure size 432x288 with 1 Axes>"
      ]
     },
     "metadata": {
      "needs_background": "light"
     },
     "output_type": "display_data"
    }
   ],
   "source": [
    "#Elbow method\n",
    "SSD=[]\n",
    "for k in range(1,25):\n",
    "    kmeans=KMeans(n_clusters=k,random_state=10)\n",
    "    kmeans.fit(scaled_data)\n",
    "    SSD.append(kmeans.inertia_)\n",
    "plt.plot(range(1,25),SSD);"
   ]
  },
  {
   "cell_type": "code",
   "execution_count": 109,
   "metadata": {},
   "outputs": [
    {
     "data": {
      "text/plain": [
       "array([5, 1, 1, 1, 2, 5, 1, 1, 1, 1, 1, 6, 3, 1, 1, 6, 1, 3, 3, 1, 1, 1,\n",
       "       6, 1, 1, 5, 5, 1, 1, 1, 1, 3, 5, 3, 5, 1, 2, 2, 5, 1, 1, 2, 1, 5,\n",
       "       2, 1, 7, 2, 6, 0, 0, 3, 3, 1, 1, 1, 6, 1, 1, 1, 3, 1, 3, 1, 6, 1,\n",
       "       1, 1, 5, 6, 6, 3, 1, 2, 6, 1, 1, 1, 6, 6, 6, 6, 1, 1, 1, 5, 6, 1,\n",
       "       1, 1, 6, 6, 1, 1, 1, 1, 6, 6, 6, 1, 6, 1, 5, 1, 1, 5, 5, 6, 1, 6,\n",
       "       6, 5, 2, 6, 6, 5, 6, 3, 6, 6, 6, 6, 5, 3, 1, 6, 2, 2, 3, 6, 3, 7,\n",
       "       6, 7, 6, 6, 3, 6, 3, 5, 6, 1, 6, 1, 1, 1, 3, 4, 1, 1, 1, 1, 1, 1,\n",
       "       1, 2, 1, 1, 6, 2, 6, 6, 3, 6, 6, 3, 3, 6, 6, 3, 5, 6, 6, 6, 6, 6,\n",
       "       6, 0, 6, 6, 6, 1, 3, 0, 0, 3, 7, 1, 1, 4, 4, 3, 1, 0, 6, 1, 1, 5,\n",
       "       1, 4, 5, 1, 1, 5, 1, 5, 2, 7, 1, 1, 1, 4, 2, 5, 1, 5, 6, 5, 5, 6,\n",
       "       5, 1, 1, 5, 1, 5, 6, 2, 5, 2, 2, 3, 3, 3, 5, 5, 1, 3, 4, 6, 3, 1,\n",
       "       5, 5, 1, 0, 0, 0, 2, 3, 1, 3, 1, 3, 3, 3, 1, 2, 6, 6, 3, 2, 1, 1,\n",
       "       1, 1, 1, 1, 1, 1, 3, 6, 4, 6, 1, 1, 1, 1, 1, 3, 1, 1, 6, 0, 3, 0,\n",
       "       0, 0, 0, 6, 6, 1, 1, 1, 2, 2, 1, 6, 0, 6, 1, 1, 1, 1, 1, 1, 1, 1,\n",
       "       1, 1, 1, 1, 1, 6, 2, 1, 1, 3, 1, 6, 1, 5, 5, 5, 1, 0, 2, 0, 6, 1,\n",
       "       1, 7, 5, 0, 5, 6, 0, 1, 0, 0, 0, 5, 0, 1, 7, 0, 3, 0, 2, 1, 0, 1,\n",
       "       0, 5, 2, 2, 1, 1, 0, 6, 0, 0, 6, 6, 5, 0, 0, 2, 1, 1, 1, 1, 1, 6,\n",
       "       2, 3, 0, 0, 6, 6, 6, 7, 2, 1, 7, 1, 2, 0, 0, 0, 0, 0, 0, 2, 3, 0,\n",
       "       1, 1, 1, 1, 1, 0, 1, 1, 1, 0, 5, 0, 1, 0, 0, 0, 5, 1, 3, 3, 0, 0,\n",
       "       0, 3, 0, 2, 0, 0, 6, 0, 0, 0, 0, 1, 1, 3, 3, 1, 0, 1, 1, 1, 1, 1,\n",
       "       3, 5, 5, 3, 6, 5, 6, 6, 6, 1, 1, 6, 1, 1, 1, 1, 2, 1, 6, 7, 3, 5,\n",
       "       1, 2, 3, 1, 1, 0, 1, 6, 6, 1, 6, 6, 6, 0, 0, 6, 1, 0, 3, 1, 3, 3,\n",
       "       0, 0, 0, 1, 1, 1, 1, 1, 1, 3, 6, 1, 0, 0, 0])"
      ]
     },
     "execution_count": 109,
     "metadata": {},
     "output_type": "execute_result"
    }
   ],
   "source": [
    "k_final=KMeans(n_clusters=8,random_state=10)\n",
    "k_final.fit(scaled_data)\n",
    "clus_pred=k_final.predict(scaled_data)\n",
    "clus_pred"
   ]
  },
  {
   "cell_type": "code",
   "execution_count": 110,
   "metadata": {},
   "outputs": [
    {
     "data": {
      "text/plain": [
       "array([[ 2.02424200e-02, -3.66184256e-01, -4.37518275e-01,\n",
       "        -2.87105383e-01, -1.43003139e-01, -1.19279681e-01,\n",
       "         5.97116911e-01,  4.94472425e-01,  0.00000000e+00,\n",
       "        -2.10331002e+00, -9.51696164e-02,  0.00000000e+00,\n",
       "         0.00000000e+00,  0.00000000e+00],\n",
       "       [-3.34681155e-01, -3.66184256e-01, -4.75441086e-01,\n",
       "        -2.87105383e-01, -1.43003139e-01, -1.19279681e-01,\n",
       "        -8.14452782e-01, -2.51792821e-01,  0.00000000e+00,\n",
       "         4.75441086e-01,  6.00927293e-01,  0.00000000e+00,\n",
       "         0.00000000e+00,  0.00000000e+00],\n",
       "       [ 1.12832215e+00, -2.77697116e-01,  1.58755980e+00,\n",
       "         3.48304162e+00, -1.43003139e-01, -1.19279681e-01,\n",
       "         2.45563653e-03, -1.67369034e-01,  0.00000000e+00,\n",
       "        -1.87666342e-01, -6.23490706e-02,  0.00000000e+00,\n",
       "         0.00000000e+00,  0.00000000e+00],\n",
       "       [-2.08742153e-01,  2.73086564e+00, -2.87895551e-01,\n",
       "        -2.87105383e-01, -1.43003139e-01, -1.19279681e-01,\n",
       "         3.73777645e-01,  4.36500182e-01,  0.00000000e+00,\n",
       "         1.47236399e-01, -5.22208740e-02,  0.00000000e+00,\n",
       "         0.00000000e+00,  0.00000000e+00],\n",
       "       [ 1.39852948e+00, -3.66184256e-01,  1.73491701e+00,\n",
       "         7.90079476e-01, -1.43003139e-01,  8.38365757e+00,\n",
       "        -2.30946769e-01, -9.27335132e-02,  0.00000000e+00,\n",
       "         4.75441086e-01,  4.51575225e-01,  0.00000000e+00,\n",
       "         0.00000000e+00,  0.00000000e+00],\n",
       "       [ 1.08155748e+00, -3.66184256e-01,  2.10331002e+00,\n",
       "        -2.87105383e-01, -1.43003139e-01, -1.19279681e-01,\n",
       "        -4.86011396e-02, -4.11489385e-01,  0.00000000e+00,\n",
       "         4.56492347e-02,  2.35942654e-01,  0.00000000e+00,\n",
       "         0.00000000e+00,  0.00000000e+00],\n",
       "       [-3.85526621e-01, -3.66184256e-01, -4.47712579e-01,\n",
       "        -2.87105383e-01, -1.43003139e-01, -1.19279681e-01,\n",
       "         1.05213903e+00,  1.80127532e-01,  0.00000000e+00,\n",
       "         4.75441086e-01, -1.21803145e+00,  0.00000000e+00,\n",
       "         0.00000000e+00,  0.00000000e+00],\n",
       "       [ 6.00922057e-01,  5.62930712e-01,  5.56059357e-01,\n",
       "         8.99093174e-02,  6.99285349e+00, -1.19279681e-01,\n",
       "        -6.10225677e-01, -2.04686795e-01,  0.00000000e+00,\n",
       "         4.75441086e-01,  3.46855867e-02,  0.00000000e+00,\n",
       "         0.00000000e+00,  0.00000000e+00]])"
      ]
     },
     "execution_count": 110,
     "metadata": {},
     "output_type": "execute_result"
    }
   ],
   "source": [
    "k_final.cluster_centers_"
   ]
  },
  {
   "cell_type": "code",
   "execution_count": 111,
   "metadata": {},
   "outputs": [
    {
     "data": {
      "image/png": "[encoded data removed]",
      "text/plain": [
       "<Figure size 432x288 with 1 Axes>"
      ]
     },
     "metadata": {
      "needs_background": "light"
     },
     "output_type": "display_data"
    }
   ],
   "source": [
    "#Silhouette method\n",
    "from sklearn.metrics import silhouette_score\n",
    "SS=[]\n",
    "for k in range(2,25):\n",
    "    kmeans=KMeans(n_clusters=k,random_state=10)\n",
    "    kmeans.fit(X)\n",
    "    SS.append(silhouette_score(X,kmeans.predict(X)))\n",
    "plt.plot(range(2,25),SS);"
   ]
  },
  {
   "cell_type": "markdown",
   "metadata": {},
   "source": [
    "### Gaussian Mixture Models\n"
   ]
  },
  {
   "cell_type": "code",
   "execution_count": 112,
   "metadata": {},
   "outputs": [
    {
     "name": "stderr",
     "output_type": "stream",
     "text": [
      "C:\\ProgramData\\Anaconda3\\lib\\site-packages\\seaborn\\distributions.py:2619: FutureWarning: `distplot` is a deprecated function and will be removed in a future version. Please adapt your code to use either `displot` (a figure-level function with similar flexibility) or `kdeplot` (an axes-level function for kernel density plots).\n",
      "  warnings.warn(msg, FutureWarning)\n"
     ]
    },
    {
     "data": {
      "image/png": "[encoded data removed]",
      "text/plain": [
       "<Figure size 432x288 with 1 Axes>"
      ]
     },
     "metadata": {
      "needs_background": "light"
     },
     "output_type": "display_data"
    }
   ],
   "source": [
    "sns.distplot(X,kde=True,hist=False);"
   ]
  },
  {
   "cell_type": "code",
   "execution_count": 113,
   "metadata": {},
   "outputs": [],
   "source": [
    "from sklearn.mixture import GaussianMixture\n",
    "gmm=GaussianMixture(n_components=4,n_init=10)"
   ]
  },
  {
   "cell_type": "code",
   "execution_count": 114,
   "metadata": {},
   "outputs": [
    {
     "data": {
      "text/plain": [
       "GaussianMixture(n_components=4, n_init=10)"
      ]
     },
     "execution_count": 114,
     "metadata": {},
     "output_type": "execute_result"
    }
   ],
   "source": [
    "gmm.fit(X)"
   ]
  },
  {
   "cell_type": "code",
   "execution_count": 115,
   "metadata": {},
   "outputs": [],
   "source": [
    "pred=gmm.predict(X)"
   ]
  },
  {
   "cell_type": "code",
   "execution_count": 116,
   "metadata": {},
   "outputs": [
    {
     "data": {
      "text/plain": [
       "array([2, 1, 1, 1, 3, 2, 1, 1, 1, 1, 1, 1, 1, 1, 1, 1, 1, 1, 1, 1, 1, 1,\n",
       "       1, 1, 1, 2, 2, 1, 1, 1, 1, 1, 2, 1, 2, 1, 3, 3, 2, 1, 1, 3, 1, 2,\n",
       "       3, 1, 0, 3, 1, 1, 1, 1, 1, 1, 1, 1, 1, 1, 1, 1, 1, 1, 1, 1, 1, 1,\n",
       "       1, 1, 2, 1, 1, 1, 1, 3, 1, 1, 1, 1, 1, 1, 1, 1, 1, 1, 1, 2, 1, 1,\n",
       "       1, 1, 1, 1, 1, 1, 1, 1, 1, 1, 1, 1, 1, 1, 2, 1, 1, 2, 2, 1, 1, 1,\n",
       "       1, 2, 3, 1, 1, 2, 1, 1, 1, 1, 1, 1, 2, 1, 1, 2, 3, 3, 1, 1, 1, 2,\n",
       "       1, 0, 1, 1, 1, 1, 1, 2, 1, 1, 1, 1, 1, 1, 1, 0, 1, 1, 1, 1, 1, 1,\n",
       "       1, 3, 1, 1, 1, 3, 1, 1, 2, 1, 1, 1, 1, 1, 1, 1, 2, 1, 1, 1, 1, 1,\n",
       "       1, 1, 1, 1, 1, 1, 1, 1, 1, 1, 0, 1, 1, 0, 0, 1, 1, 1, 1, 1, 1, 2,\n",
       "       1, 0, 2, 1, 1, 2, 1, 2, 3, 2, 1, 1, 1, 0, 3, 2, 1, 2, 1, 2, 2, 1,\n",
       "       2, 1, 1, 2, 1, 2, 1, 3, 2, 3, 3, 1, 1, 1, 2, 2, 1, 1, 0, 1, 1, 1,\n",
       "       2, 2, 1, 1, 1, 1, 3, 1, 1, 1, 1, 1, 1, 2, 1, 3, 1, 1, 1, 3, 1, 1,\n",
       "       1, 1, 1, 1, 1, 1, 2, 1, 0, 1, 1, 1, 1, 1, 1, 1, 1, 1, 1, 1, 1, 1,\n",
       "       1, 1, 1, 1, 1, 1, 1, 1, 3, 3, 1, 1, 1, 1, 1, 1, 1, 1, 1, 1, 1, 1,\n",
       "       1, 1, 1, 1, 1, 1, 3, 1, 1, 1, 1, 1, 1, 3, 3, 3, 1, 1, 3, 1, 1, 1,\n",
       "       1, 2, 3, 1, 3, 1, 1, 1, 1, 1, 1, 2, 1, 1, 2, 1, 3, 1, 3, 1, 1, 1,\n",
       "       3, 3, 3, 3, 1, 1, 1, 1, 1, 1, 1, 1, 2, 1, 1, 3, 1, 1, 1, 1, 1, 1,\n",
       "       3, 1, 1, 1, 1, 1, 1, 0, 3, 1, 0, 1, 3, 1, 1, 1, 1, 1, 1, 3, 1, 1,\n",
       "       1, 1, 1, 1, 1, 1, 1, 1, 1, 1, 3, 1, 1, 1, 1, 1, 3, 1, 1, 1, 1, 1,\n",
       "       1, 1, 1, 3, 1, 1, 1, 1, 1, 1, 1, 1, 1, 1, 1, 1, 1, 1, 1, 1, 1, 1,\n",
       "       1, 2, 2, 1, 1, 2, 1, 1, 1, 1, 1, 1, 1, 1, 1, 1, 3, 1, 1, 2, 1, 2,\n",
       "       1, 3, 1, 1, 1, 1, 1, 1, 1, 1, 1, 1, 1, 1, 1, 1, 1, 1, 1, 1, 1, 1,\n",
       "       1, 1, 1, 1, 1, 1, 1, 1, 1, 1, 1, 1, 1, 1, 1], dtype=int64)"
      ]
     },
     "execution_count": 116,
     "metadata": {},
     "output_type": "execute_result"
    }
   ],
   "source": [
    "pred"
   ]
  },
  {
   "cell_type": "code",
   "execution_count": 117,
   "metadata": {},
   "outputs": [
    {
     "data": {
      "text/plain": [
       "array([0, 1, 2, 3], dtype=int64)"
      ]
     },
     "execution_count": 117,
     "metadata": {},
     "output_type": "execute_result"
    }
   ],
   "source": [
    "np.unique(pred)"
   ]
  },
  {
   "cell_type": "code",
   "execution_count": 118,
   "metadata": {},
   "outputs": [
    {
     "data": {
      "text/plain": [
       "array([ 12, 393,  49,  45], dtype=int64)"
      ]
     },
     "execution_count": 118,
     "metadata": {},
     "output_type": "execute_result"
    }
   ],
   "source": [
    "np.bincount(pred)"
   ]
  },
  {
   "cell_type": "code",
   "execution_count": 119,
   "metadata": {},
   "outputs": [
    {
     "data": {
      "text/plain": [
       "array([[6.39166667e+01, 0.00000000e+00, 8.33333333e-01, 2.50000000e-01,\n",
       "        4.16666667e-01, 5.83333333e-01, 2.50000000e-01, 2.01600000e+03,\n",
       "        1.00000000e+00, 2.30833333e+01, 2.01600000e+03, 4.00000000e+00,\n",
       "        2.90000000e+01],\n",
       "       [2.65674299e+01, 1.29770993e-01, 0.00000000e+00, 0.00000000e+00,\n",
       "        0.00000000e+00, 0.00000000e+00, 4.02035622e-01, 2.01600000e+03,\n",
       "        8.14249368e-01, 2.29541985e+01, 2.01600000e+03, 4.00000000e+00,\n",
       "        2.90000000e+01],\n",
       "       [5.39387752e+01, 1.22448985e-01, 8.97959179e-01, 0.00000000e+00,\n",
       "        1.02040821e-01, 0.00000000e+00, 3.26530601e-01, 2.01600000e+03,\n",
       "        1.00000000e+00, 2.47959183e+01, 2.01600000e+03, 4.00000000e+00,\n",
       "        2.90000000e+01],\n",
       "       [5.86666666e+01, 4.44444403e-02, 8.44444413e-01, 7.77777706e-01,\n",
       "        0.00000000e+00, 0.00000000e+00, 4.88888900e-01, 2.01600000e+03,\n",
       "        5.77777772e-01, 2.28000001e+01, 2.01600000e+03, 4.00000000e+00,\n",
       "        2.90000000e+01]])"
      ]
     },
     "execution_count": 119,
     "metadata": {},
     "output_type": "execute_result"
    }
   ],
   "source": [
    "gmm.means_"
   ]
  },
  {
   "cell_type": "code",
   "execution_count": 120,
   "metadata": {},
   "outputs": [
    {
     "data": {
      "text/plain": [
       "array([[[ 7.19097232e+01,  0.00000000e+00, -1.84722222e+00,\n",
       "          3.54166667e-01, -7.98611111e-01,  7.98611111e-01,\n",
       "         -1.47916667e+00,  0.00000000e+00,  6.57384088e-32,\n",
       "          2.42569444e+01,  0.00000000e+00,  2.62953635e-31,\n",
       "          0.00000000e+00],\n",
       "        [ 0.00000000e+00,  1.00000000e-06,  0.00000000e+00,\n",
       "          0.00000000e+00,  0.00000000e+00,  0.00000000e+00,\n",
       "          0.00000000e+00,  0.00000000e+00,  0.00000000e+00,\n",
       "          0.00000000e+00,  0.00000000e+00,  0.00000000e+00,\n",
       "          0.00000000e+00],\n",
       "        [-1.84722222e+00,  0.00000000e+00,  1.38889889e-01,\n",
       "         -4.16666667e-02, -1.38888889e-02,  1.38888889e-02,\n",
       "          4.16666667e-02,  0.00000000e+00,  1.23259516e-32,\n",
       "          2.63888889e-01,  0.00000000e+00,  4.93038066e-32,\n",
       "          0.00000000e+00],\n",
       "        [ 3.54166667e-01,  0.00000000e+00, -4.16666667e-02,\n",
       "          1.87501000e-01, -2.08333333e-02,  2.08333333e-02,\n",
       "          2.08333333e-02,  0.00000000e+00,  4.62223187e-33,\n",
       "         -2.08333333e-02,  0.00000000e+00,  1.84889275e-32,\n",
       "          0.00000000e+00],\n",
       "        [-7.98611111e-01,  0.00000000e+00, -1.38888889e-02,\n",
       "         -2.08333333e-02,  2.43056556e-01, -2.43055556e-01,\n",
       "         -2.08333333e-02,  0.00000000e+00,  4.10865055e-33,\n",
       "         -2.11805556e+00,  0.00000000e+00,  1.64346022e-32,\n",
       "          0.00000000e+00],\n",
       "        [ 7.98611111e-01,  0.00000000e+00,  1.38888889e-02,\n",
       "          2.08333333e-02, -2.43055556e-01,  2.43056556e-01,\n",
       "          2.08333333e-02,  0.00000000e+00,  6.16297582e-33,\n",
       "          2.11805556e+00,  0.00000000e+00,  2.46519033e-32,\n",
       "          0.00000000e+00],\n",
       "        [-1.47916667e+00,  0.00000000e+00,  4.16666667e-02,\n",
       "          2.08333333e-02, -2.08333333e-02,  2.08333333e-02,\n",
       "          1.87501000e-01,  0.00000000e+00,  4.62223187e-33,\n",
       "         -2.08333333e-02,  0.00000000e+00,  1.84889275e-32,\n",
       "          0.00000000e+00],\n",
       "        [ 0.00000000e+00,  0.00000000e+00,  0.00000000e+00,\n",
       "          0.00000000e+00,  0.00000000e+00,  0.00000000e+00,\n",
       "          0.00000000e+00,  1.00000000e-06,  0.00000000e+00,\n",
       "          0.00000000e+00,  0.00000000e+00,  0.00000000e+00,\n",
       "          0.00000000e+00],\n",
       "        [ 6.57384088e-32,  0.00000000e+00,  1.23259516e-32,\n",
       "          4.62223187e-33,  4.10865055e-33,  6.16297582e-33,\n",
       "          4.62223187e-33,  0.00000000e+00,  1.00000000e-06,\n",
       "         -1.64346022e-31,  0.00000000e+00,  4.93038066e-32,\n",
       "          0.00000000e+00],\n",
       "        [ 2.42569444e+01,  0.00000000e+00,  2.63888889e-01,\n",
       "         -2.08333333e-02, -2.11805556e+00,  2.11805556e+00,\n",
       "         -2.08333333e-02,  0.00000000e+00, -1.64346022e-31,\n",
       "          5.29097232e+01,  0.00000000e+00, -6.57384088e-31,\n",
       "          0.00000000e+00],\n",
       "        [ 0.00000000e+00,  0.00000000e+00,  0.00000000e+00,\n",
       "          0.00000000e+00,  0.00000000e+00,  0.00000000e+00,\n",
       "          0.00000000e+00,  0.00000000e+00,  0.00000000e+00,\n",
       "          0.00000000e+00,  1.00000000e-06,  0.00000000e+00,\n",
       "          0.00000000e+00],\n",
       "        [ 2.62953635e-31,  0.00000000e+00,  4.93038066e-32,\n",
       "          1.84889275e-32,  1.64346022e-32,  2.46519033e-32,\n",
       "          1.84889275e-32,  0.00000000e+00,  4.93038066e-32,\n",
       "         -6.57384088e-31,  0.00000000e+00,  1.00000000e-06,\n",
       "          0.00000000e+00],\n",
       "        [ 0.00000000e+00,  0.00000000e+00,  0.00000000e+00,\n",
       "          0.00000000e+00,  0.00000000e+00,  0.00000000e+00,\n",
       "          0.00000000e+00,  0.00000000e+00,  0.00000000e+00,\n",
       "          0.00000000e+00,  0.00000000e+00,  0.00000000e+00,\n",
       "          1.00000000e-06]],\n",
       "\n",
       "       [[ 4.23232729e+02,  5.61350529e-02,  0.00000000e+00,\n",
       "          0.00000000e+00,  0.00000000e+00,  0.00000000e+00,\n",
       "          3.36758377e-01,  1.97323620e-28, -1.17449763e+00,\n",
       "         -2.87986324e+00,  1.97323620e-28, -7.06562443e-31,\n",
       "          5.65249954e-30],\n",
       "        [ 5.61350529e-02,  1.12931482e-01,  0.00000000e+00,\n",
       "          0.00000000e+00,  0.00000000e+00,  0.00000000e+00,\n",
       "          1.90742578e-02, -2.10684074e-29,  8.83786831e-03,\n",
       "         -1.68987899e-03, -2.10684074e-29,  1.50545975e-32,\n",
       "         -1.20436780e-31],\n",
       "        [ 0.00000000e+00,  0.00000000e+00,  1.00000000e-06,\n",
       "          0.00000000e+00,  0.00000000e+00,  0.00000000e+00,\n",
       "          0.00000000e+00,  0.00000000e+00,  0.00000000e+00,\n",
       "          0.00000000e+00,  0.00000000e+00,  0.00000000e+00,\n",
       "          0.00000000e+00],\n",
       "        [ 0.00000000e+00,  0.00000000e+00,  0.00000000e+00,\n",
       "          1.00000000e-06,  0.00000000e+00,  0.00000000e+00,\n",
       "          0.00000000e+00,  0.00000000e+00,  0.00000000e+00,\n",
       "          0.00000000e+00,  0.00000000e+00,  0.00000000e+00,\n",
       "          0.00000000e+00],\n",
       "        [ 0.00000000e+00,  0.00000000e+00,  0.00000000e+00,\n",
       "          0.00000000e+00,  1.00000000e-06,  0.00000000e+00,\n",
       "          0.00000000e+00,  0.00000000e+00,  0.00000000e+00,\n",
       "          0.00000000e+00,  0.00000000e+00,  0.00000000e+00,\n",
       "          0.00000000e+00],\n",
       "        [ 0.00000000e+00,  0.00000000e+00,  0.00000000e+00,\n",
       "          0.00000000e+00,  0.00000000e+00,  1.00000000e-06,\n",
       "          0.00000000e+00,  0.00000000e+00,  0.00000000e+00,\n",
       "          0.00000000e+00,  0.00000000e+00,  0.00000000e+00,\n",
       "          0.00000000e+00],\n",
       "        [ 3.36758377e-01,  1.90742578e-02,  0.00000000e+00,\n",
       "          0.00000000e+00,  0.00000000e+00,  0.00000000e+00,\n",
       "          2.40403981e-01, -7.60518120e-29, -5.50926189e-02,\n",
       "         -2.18005945e+00, -7.60518120e-29,  5.01819917e-32,\n",
       "         -4.01455934e-31],\n",
       "        [ 1.31549080e-28, -2.26099982e-29,  0.00000000e+00,\n",
       "          0.00000000e+00,  0.00000000e+00,  0.00000000e+00,\n",
       "         -8.01627208e-29,  1.00000000e-06, -2.87763613e-29,\n",
       "         -2.41721435e-27,  4.65289095e-25, -3.02922588e-28,\n",
       "          2.42338070e-27],\n",
       "        [-1.17449763e+00,  8.83786831e-03,  0.00000000e+00,\n",
       "          0.00000000e+00,  0.00000000e+00,  0.00000000e+00,\n",
       "         -5.50926189e-02, -2.05545438e-29,  1.51248335e-01,\n",
       "          2.45712129e-02, -2.05545438e-29,  3.21164747e-32,\n",
       "         -2.56931797e-31],\n",
       "        [-2.87986324e+00, -1.68987899e-03,  0.00000000e+00,\n",
       "          0.00000000e+00,  0.00000000e+00,  0.00000000e+00,\n",
       "         -2.18005945e+00, -2.44187980e-27,  2.45712129e-02,\n",
       "          6.58604989e+01, -2.44187980e-27,  1.30874634e-30,\n",
       "         -1.04699707e-29],\n",
       "        [ 1.31549080e-28, -2.26099982e-29,  0.00000000e+00,\n",
       "          0.00000000e+00,  0.00000000e+00,  0.00000000e+00,\n",
       "         -8.01627208e-29,  4.65289095e-25, -2.87763613e-29,\n",
       "         -2.41721435e-27,  1.00000000e-06, -3.02922588e-28,\n",
       "          2.42338070e-27],\n",
       "        [-5.78096544e-31,  1.50545975e-32,  0.00000000e+00,\n",
       "          0.00000000e+00,  0.00000000e+00,  0.00000000e+00,\n",
       "          4.91783519e-32, -3.02922588e-28,  4.81747120e-32,\n",
       "          1.20838236e-30, -3.02922588e-28,  1.00000000e-06,\n",
       "         -1.57772181e-30],\n",
       "        [ 4.62477235e-30, -1.20436780e-31,  0.00000000e+00,\n",
       "          0.00000000e+00,  0.00000000e+00,  0.00000000e+00,\n",
       "         -3.93426815e-31,  2.42338070e-27, -3.85397696e-31,\n",
       "         -9.66705888e-30,  2.42338070e-27, -1.57772181e-30,\n",
       "          1.00000000e-06]],\n",
       "\n",
       "       [[ 2.43486049e+02, -2.50270727e+00,  2.25905879e+00,\n",
       "          0.00000000e+00, -2.25905879e+00,  0.00000000e+00,\n",
       "          6.52644678e-01,  1.00726916e-26,  4.91830647e-30,\n",
       "         -1.58900466e+01,  1.00726916e-26,  1.96732259e-29,\n",
       "          1.57385807e-28],\n",
       "        [-2.50270727e+00,  1.07456231e-01, -4.87296975e-02,\n",
       "          0.00000000e+00,  4.87296975e-02,  0.00000000e+00,\n",
       "          2.12411518e-02,  1.33945368e-29,  6.54030116e-33,\n",
       "         -7.70512289e-02,  1.33945368e-29,  2.61612046e-32,\n",
       "          2.09289637e-31],\n",
       "        [ 2.25905879e+00, -4.87296975e-02,  9.16294916e-02,\n",
       "          0.00000000e+00, -9.16284916e-02,  0.00000000e+00,\n",
       "          3.33194505e-02,  4.22443083e-29,  2.06271036e-32,\n",
       "         -4.08579779e-01,  4.22443083e-29,  8.25084146e-32,\n",
       "          6.60067317e-31],\n",
       "        [ 0.00000000e+00,  0.00000000e+00,  0.00000000e+00,\n",
       "          1.00000000e-06,  0.00000000e+00,  0.00000000e+00,\n",
       "          0.00000000e+00,  0.00000000e+00,  0.00000000e+00,\n",
       "          0.00000000e+00,  0.00000000e+00,  0.00000000e+00,\n",
       "          0.00000000e+00],\n",
       "        [-2.25905879e+00,  4.87296975e-02, -9.16284916e-02,\n",
       "          0.00000000e+00,  9.16294916e-02,  0.00000000e+00,\n",
       "         -3.33194505e-02,  9.78831533e-30,  4.77945084e-33,\n",
       "          4.08579779e-01,  9.78831533e-30,  1.91178034e-32,\n",
       "          1.52942427e-31],\n",
       "        [ 0.00000000e+00,  0.00000000e+00,  0.00000000e+00,\n",
       "          0.00000000e+00,  0.00000000e+00,  1.00000000e-06,\n",
       "          0.00000000e+00,  0.00000000e+00,  0.00000000e+00,\n",
       "          0.00000000e+00,  0.00000000e+00,  0.00000000e+00,\n",
       "          0.00000000e+00],\n",
       "        [ 6.52644678e-01,  2.12411518e-02,  3.33194505e-02,\n",
       "          0.00000000e+00, -3.33194505e-02,  0.00000000e+00,\n",
       "          2.19909368e-01,  3.70925634e-29,  1.81116032e-32,\n",
       "         -2.64764688e+00,  3.70925634e-29,  7.24464128e-32,\n",
       "          5.79571302e-31],\n",
       "        [ 1.01716052e-26,  1.59704092e-29,  4.32746572e-29,\n",
       "          0.00000000e+00,  9.78831533e-30,  0.00000000e+00,\n",
       "          3.29711674e-29,  1.00000000e-06,  1.00974196e-28,\n",
       "          4.63244902e-27,  2.06795153e-25,  4.03896783e-28,\n",
       "          3.23117427e-27],\n",
       "        [ 4.96660408e-30,  7.79805138e-33,  2.11302037e-32,\n",
       "          0.00000000e+00,  4.77945084e-33,  0.00000000e+00,\n",
       "          1.60992028e-32,  1.00974196e-28,  1.00000000e-06,\n",
       "          2.26193800e-30,  1.00974196e-28,  1.97215226e-31,\n",
       "          1.57772181e-30],\n",
       "        [-1.58900466e+01, -7.70512289e-02, -4.08579779e-01,\n",
       "          0.00000000e+00,  4.08579779e-01,  0.00000000e+00,\n",
       "         -2.64764688e+00,  4.53353552e-27,  2.21364039e-30,\n",
       "          5.43256999e+01,  4.53353552e-27,  8.85456156e-30,\n",
       "          7.08364925e-29],\n",
       "        [ 1.01716052e-26,  1.59704092e-29,  4.32746572e-29,\n",
       "          0.00000000e+00,  9.78831533e-30,  0.00000000e+00,\n",
       "          3.29711674e-29,  2.06795153e-25,  1.00974196e-28,\n",
       "          4.63244902e-27,  1.00000000e-06,  4.03896783e-28,\n",
       "          3.23117427e-27],\n",
       "        [ 1.98664163e-29,  3.11922055e-32,  8.45208149e-32,\n",
       "          0.00000000e+00,  1.91178034e-32,  0.00000000e+00,\n",
       "          6.43968114e-32,  4.03896783e-28,  1.97215226e-31,\n",
       "          9.04775200e-30,  4.03896783e-28,  1.00000000e-06,\n",
       "          6.31088724e-30],\n",
       "        [ 1.58931330e-28,  2.49537644e-31,  6.76166519e-31,\n",
       "          0.00000000e+00,  1.52942427e-31,  0.00000000e+00,\n",
       "          5.15174491e-31,  3.23117427e-27,  1.57772181e-30,\n",
       "          7.23820160e-29,  3.23117427e-27,  6.31088724e-30,\n",
       "          1.00000000e-06]],\n",
       "\n",
       "       [[ 1.59155559e+02,  1.25925918e-01,  1.32592605e+00,\n",
       "          3.03703749e-01,  0.00000000e+00,  0.00000000e+00,\n",
       "         -1.25925904e-01,  3.94921263e-27,  1.32592603e+00,\n",
       "          1.16444451e+01,  3.94921263e-27, -6.17064473e-29,\n",
       "         -6.17064473e-29],\n",
       "        [ 1.25925918e-01,  4.24701321e-02,  6.91358098e-03,\n",
       "         -1.23456747e-02,  0.00000000e+00,  0.00000000e+00,\n",
       "          4.93826633e-04, -5.89016088e-30, -3.45678953e-03,\n",
       "          9.77777653e-02, -5.89016088e-30,  9.20337637e-32,\n",
       "          9.20337637e-32],\n",
       "        [ 1.32592605e+00,  6.91358098e-03,  1.31359046e-01,\n",
       "         -3.45678738e-02,  0.00000000e+00,  0.00000000e+00,\n",
       "          3.16049305e-02,  2.18777404e-29,  9.87679357e-04,\n",
       "          8.00000492e-02,  2.18777404e-29, -3.41839694e-31,\n",
       "         -3.41839694e-31],\n",
       "        [ 3.03703749e-01, -1.23456747e-02, -3.45678738e-02,\n",
       "          1.72840546e-01,  0.00000000e+00,  0.00000000e+00,\n",
       "         -6.91358045e-02,  3.70238684e-29,  1.28395055e-01,\n",
       "         -1.33333381e-01,  3.70238684e-29, -5.78497944e-31,\n",
       "         -5.78497944e-31],\n",
       "        [ 0.00000000e+00,  0.00000000e+00,  0.00000000e+00,\n",
       "          0.00000000e+00,  1.00000000e-06,  0.00000000e+00,\n",
       "          0.00000000e+00,  0.00000000e+00,  0.00000000e+00,\n",
       "          0.00000000e+00,  0.00000000e+00,  0.00000000e+00,\n",
       "          0.00000000e+00],\n",
       "        [ 0.00000000e+00,  0.00000000e+00,  0.00000000e+00,\n",
       "          0.00000000e+00,  0.00000000e+00,  1.00000000e-06,\n",
       "          0.00000000e+00,  0.00000000e+00,  0.00000000e+00,\n",
       "          0.00000000e+00,  0.00000000e+00,  0.00000000e+00,\n",
       "          0.00000000e+00],\n",
       "        [-1.25925904e-01,  4.93826633e-04,  3.16049305e-02,\n",
       "         -6.91358045e-02,  0.00000000e+00,  0.00000000e+00,\n",
       "          2.49877543e-01,  2.24387081e-29, -1.04691350e-01,\n",
       "         -1.87999987e+00,  2.24387081e-29, -3.50604814e-31,\n",
       "         -3.50604814e-31],\n",
       "        [ 3.94921263e-27, -5.89016088e-30,  2.18777404e-29,\n",
       "          3.70238684e-29,  0.00000000e+00,  0.00000000e+00,\n",
       "          2.24387081e-29,  1.00000000e-06, -8.97548325e-30,\n",
       "          2.51313531e-28,  5.16987883e-26, -8.07793567e-28,\n",
       "         -8.07793567e-28],\n",
       "        [ 1.32592603e+00, -3.45678953e-03,  9.87679357e-04,\n",
       "          1.28395055e-01,  0.00000000e+00,  0.00000000e+00,\n",
       "         -1.04691350e-01, -8.97548325e-30,  2.43951618e-01,\n",
       "          3.37777824e-01, -8.97548325e-30,  1.40241926e-31,\n",
       "          1.40241926e-31],\n",
       "        [ 1.16444451e+01,  9.77777653e-02,  8.00000492e-02,\n",
       "         -1.33333381e-01,  0.00000000e+00,  0.00000000e+00,\n",
       "         -1.87999987e+00,  2.51313531e-28,  3.37777824e-01,\n",
       "          4.90044434e+01,  2.51313531e-28, -3.92677392e-30,\n",
       "         -3.92677392e-30],\n",
       "        [ 3.94921263e-27, -5.89016088e-30,  2.18777404e-29,\n",
       "          3.70238684e-29,  0.00000000e+00,  0.00000000e+00,\n",
       "          2.24387081e-29,  5.16987883e-26, -8.97548325e-30,\n",
       "          2.51313531e-28,  1.00000000e-06, -8.07793567e-28,\n",
       "         -8.07793567e-28],\n",
       "        [-6.17064473e-29,  9.20337637e-32, -3.41839694e-31,\n",
       "         -5.78497944e-31,  0.00000000e+00,  0.00000000e+00,\n",
       "         -3.50604814e-31, -8.07793567e-28,  1.40241926e-31,\n",
       "         -3.92677392e-30, -8.07793567e-28,  1.00000000e-06,\n",
       "          1.26217745e-29],\n",
       "        [-6.17064473e-29,  9.20337637e-32, -3.41839694e-31,\n",
       "         -5.78497944e-31,  0.00000000e+00,  0.00000000e+00,\n",
       "         -3.50604814e-31, -8.07793567e-28,  1.40241926e-31,\n",
       "         -3.92677392e-30, -8.07793567e-28,  1.26217745e-29,\n",
       "          1.00000000e-06]]])"
      ]
     },
     "execution_count": 120,
     "metadata": {},
     "output_type": "execute_result"
    }
   ],
   "source": [
    "gmm.covariances_"
   ]
  },
  {
   "cell_type": "code",
   "execution_count": 121,
   "metadata": {},
   "outputs": [
    {
     "data": {
      "text/plain": [
       "array([0.0240481 , 0.78757515, 0.09819639, 0.09018037])"
      ]
     },
     "execution_count": 121,
     "metadata": {},
     "output_type": "execute_result"
    }
   ],
   "source": [
    "gmm.weights_"
   ]
  },
  {
   "cell_type": "code",
   "execution_count": 122,
   "metadata": {},
   "outputs": [
    {
     "data": {
      "text/plain": [
       "(array([[ 6.64554207e+01,  9.75302000e-04,  8.50950309e-02, ...,\n",
       "          2.01600158e+03,  4.00119113e+00,  2.89996493e+01],\n",
       "        [ 6.28954655e+01, -7.94599074e-04,  8.71182006e-01, ...,\n",
       "          2.01599940e+03,  3.99920756e+00,  2.89994831e+01],\n",
       "        [ 7.76232887e+01,  1.42335653e-03,  6.59564939e-01, ...,\n",
       "          2.01599922e+03,  3.99960829e+00,  2.90004205e+01],\n",
       "        ...,\n",
       "        [ 5.64972678e+01, -3.22820803e-01,  8.62572151e-01, ...,\n",
       "          2.01599901e+03,  3.99828249e+00,  2.90003953e+01],\n",
       "        [ 6.08250654e+01,  6.96905116e-02,  9.71462847e-01, ...,\n",
       "          2.01600132e+03,  3.99765688e+00,  2.89997859e+01],\n",
       "        [ 5.39126864e+01, -9.41031814e-02,  4.00637184e-01, ...,\n",
       "          2.01600105e+03,  4.00095422e+00,  2.89999660e+01]]),\n",
       " array([0, 0, 0, 0, 0, 0, 0, 0, 0, 0, 0, 0, 0, 0, 0, 0, 0, 0, 0, 0, 0, 0,\n",
       "        0, 1, 1, 1, 1, 1, 1, 1, 1, 1, 1, 1, 1, 1, 1, 1, 1, 1, 1, 1, 1, 1,\n",
       "        1, 1, 1, 1, 1, 1, 1, 1, 1, 1, 1, 1, 1, 1, 1, 1, 1, 1, 1, 1, 1, 1,\n",
       "        1, 1, 1, 1, 1, 1, 1, 1, 1, 1, 1, 1, 1, 1, 1, 1, 1, 1, 1, 1, 1, 1,\n",
       "        1, 1, 1, 1, 1, 1, 1, 1, 1, 1, 1, 1, 1, 1, 1, 1, 1, 1, 1, 1, 1, 1,\n",
       "        1, 1, 1, 1, 1, 1, 1, 1, 1, 1, 1, 1, 1, 1, 1, 1, 1, 1, 1, 1, 1, 1,\n",
       "        1, 1, 1, 1, 1, 1, 1, 1, 1, 1, 1, 1, 1, 1, 1, 1, 1, 1, 1, 1, 1, 1,\n",
       "        1, 1, 1, 1, 1, 1, 1, 1, 1, 1, 1, 1, 1, 1, 1, 1, 1, 1, 1, 1, 1, 1,\n",
       "        1, 1, 1, 1, 1, 1, 1, 1, 1, 1, 1, 1, 1, 1, 1, 1, 1, 1, 1, 1, 1, 1,\n",
       "        1, 1, 1, 1, 1, 1, 1, 1, 1, 1, 1, 1, 1, 1, 1, 1, 1, 1, 1, 1, 1, 1,\n",
       "        1, 1, 1, 1, 1, 1, 1, 1, 1, 1, 1, 1, 1, 1, 1, 1, 1, 1, 1, 1, 1, 1,\n",
       "        1, 1, 1, 1, 1, 1, 1, 1, 1, 1, 1, 1, 1, 1, 1, 1, 1, 1, 1, 1, 1, 1,\n",
       "        1, 1, 1, 1, 1, 1, 1, 1, 1, 1, 1, 1, 1, 1, 1, 1, 1, 1, 1, 1, 1, 1,\n",
       "        1, 1, 1, 1, 1, 1, 1, 1, 1, 1, 1, 1, 1, 1, 1, 1, 1, 1, 1, 1, 1, 1,\n",
       "        1, 1, 1, 1, 1, 1, 1, 1, 1, 1, 1, 1, 1, 1, 1, 1, 1, 1, 1, 1, 1, 1,\n",
       "        1, 1, 1, 1, 1, 1, 1, 1, 1, 1, 1, 1, 1, 1, 1, 1, 1, 1, 1, 1, 1, 1,\n",
       "        1, 1, 1, 1, 1, 1, 1, 1, 1, 1, 1, 1, 1, 1, 1, 1, 1, 1, 1, 1, 1, 1,\n",
       "        1, 1, 1, 1, 1, 1, 1, 1, 1, 1, 1, 1, 1, 1, 1, 1, 1, 1, 1, 1, 1, 1,\n",
       "        1, 1, 1, 1, 1, 1, 1, 1, 1, 1, 1, 1, 1, 1, 1, 1, 1, 1, 1, 1, 1, 1,\n",
       "        1, 1, 1, 1, 1, 1, 1, 1, 1, 1, 1, 1, 1, 1, 1, 1, 1, 1, 1, 1, 1, 1,\n",
       "        1, 1, 1, 1, 1, 1, 1, 1, 1, 1, 1, 1, 1, 1, 1, 1, 1, 1, 1, 1, 1, 1,\n",
       "        1, 1, 1, 1, 1, 1, 1, 1, 1, 1, 1, 1, 1, 1, 1, 1, 1, 1, 1, 1, 1, 1,\n",
       "        1, 1, 1, 1, 1, 1, 1, 1, 1, 1, 1, 1, 1, 1, 1, 1, 1, 1, 1, 1, 1, 1,\n",
       "        1, 1, 1, 1, 1, 1, 1, 1, 1, 1, 1, 1, 1, 1, 1, 1, 1, 1, 1, 1, 1, 1,\n",
       "        1, 1, 1, 1, 1, 1, 1, 1, 1, 1, 1, 1, 1, 1, 1, 1, 1, 1, 1, 1, 1, 1,\n",
       "        1, 1, 1, 1, 1, 1, 1, 1, 1, 1, 1, 1, 1, 1, 1, 1, 1, 1, 1, 1, 1, 1,\n",
       "        1, 1, 1, 1, 1, 1, 1, 1, 1, 1, 1, 1, 1, 1, 1, 1, 1, 1, 1, 1, 1, 1,\n",
       "        1, 1, 1, 1, 1, 1, 1, 1, 1, 1, 1, 1, 1, 1, 1, 1, 1, 1, 1, 1, 1, 1,\n",
       "        1, 1, 1, 1, 1, 1, 1, 1, 1, 1, 1, 1, 1, 1, 1, 1, 1, 1, 1, 1, 1, 1,\n",
       "        1, 1, 1, 1, 1, 1, 1, 1, 1, 1, 1, 1, 1, 1, 1, 1, 1, 1, 1, 1, 1, 1,\n",
       "        1, 1, 1, 1, 1, 1, 1, 1, 1, 1, 1, 1, 1, 1, 1, 1, 1, 1, 1, 1, 1, 1,\n",
       "        1, 1, 1, 1, 1, 1, 1, 1, 1, 1, 1, 1, 1, 1, 1, 1, 1, 1, 1, 1, 1, 1,\n",
       "        1, 1, 1, 1, 1, 1, 1, 1, 1, 1, 1, 1, 1, 1, 1, 1, 1, 1, 1, 1, 1, 1,\n",
       "        1, 1, 1, 1, 1, 1, 1, 1, 1, 1, 1, 1, 1, 1, 1, 1, 1, 1, 1, 1, 1, 1,\n",
       "        1, 1, 1, 1, 1, 1, 1, 1, 1, 1, 1, 1, 1, 1, 1, 1, 1, 1, 1, 1, 1, 1,\n",
       "        1, 1, 1, 1, 1, 1, 1, 1, 1, 1, 1, 1, 1, 1, 1, 1, 1, 1, 1, 1, 1, 1,\n",
       "        1, 1, 1, 1, 1, 1, 1, 1, 1, 1, 1, 1, 2, 2, 2, 2, 2, 2, 2, 2, 2, 2,\n",
       "        2, 2, 2, 2, 2, 2, 2, 2, 2, 2, 2, 2, 2, 2, 2, 2, 2, 2, 2, 2, 2, 2,\n",
       "        2, 2, 2, 2, 2, 2, 2, 2, 2, 2, 2, 2, 2, 2, 2, 2, 2, 2, 2, 2, 2, 2,\n",
       "        2, 2, 2, 2, 2, 2, 2, 2, 2, 2, 2, 2, 2, 2, 2, 2, 2, 2, 2, 2, 2, 2,\n",
       "        2, 2, 2, 2, 2, 2, 2, 2, 2, 2, 2, 2, 2, 2, 2, 2, 3, 3, 3, 3, 3, 3,\n",
       "        3, 3, 3, 3, 3, 3, 3, 3, 3, 3, 3, 3, 3, 3, 3, 3, 3, 3, 3, 3, 3, 3,\n",
       "        3, 3, 3, 3, 3, 3, 3, 3, 3, 3, 3, 3, 3, 3, 3, 3, 3, 3, 3, 3, 3, 3,\n",
       "        3, 3, 3, 3, 3, 3, 3, 3, 3, 3, 3, 3, 3, 3, 3, 3, 3, 3, 3, 3, 3, 3,\n",
       "        3, 3, 3, 3, 3, 3, 3, 3, 3, 3, 3, 3, 3, 3, 3, 3, 3, 3, 3, 3, 3, 3,\n",
       "        3, 3, 3, 3, 3, 3, 3, 3, 3, 3]))"
      ]
     },
     "execution_count": 122,
     "metadata": {},
     "output_type": "execute_result"
    }
   ],
   "source": [
    "gmm.sample(1000)"
   ]
  },
  {
   "cell_type": "code",
   "execution_count": 123,
   "metadata": {},
   "outputs": [
    {
     "name": "stderr",
     "output_type": "stream",
     "text": [
      "C:\\ProgramData\\Anaconda3\\lib\\site-packages\\sklearn\\cluster\\_kmeans.py:1036: UserWarning: KMeans is known to have a memory leak on Windows with MKL, when there are less chunks than available threads. You can avoid it by setting the environment variable OMP_NUM_THREADS=2.\n",
      "  warnings.warn(\n",
      "C:\\ProgramData\\Anaconda3\\lib\\site-packages\\sklearn\\cluster\\_kmeans.py:1036: UserWarning: KMeans is known to have a memory leak on Windows with MKL, when there are less chunks than available threads. You can avoid it by setting the environment variable OMP_NUM_THREADS=2.\n",
      "  warnings.warn(\n",
      "C:\\ProgramData\\Anaconda3\\lib\\site-packages\\sklearn\\cluster\\_kmeans.py:1036: UserWarning: KMeans is known to have a memory leak on Windows with MKL, when there are less chunks than available threads. You can avoid it by setting the environment variable OMP_NUM_THREADS=2.\n",
      "  warnings.warn(\n",
      "C:\\ProgramData\\Anaconda3\\lib\\site-packages\\sklearn\\cluster\\_kmeans.py:1036: UserWarning: KMeans is known to have a memory leak on Windows with MKL, when there are less chunks than available threads. You can avoid it by setting the environment variable OMP_NUM_THREADS=2.\n",
      "  warnings.warn(\n",
      "C:\\ProgramData\\Anaconda3\\lib\\site-packages\\sklearn\\cluster\\_kmeans.py:1036: UserWarning: KMeans is known to have a memory leak on Windows with MKL, when there are less chunks than available threads. You can avoid it by setting the environment variable OMP_NUM_THREADS=2.\n",
      "  warnings.warn(\n",
      "C:\\ProgramData\\Anaconda3\\lib\\site-packages\\sklearn\\cluster\\_kmeans.py:1036: UserWarning: KMeans is known to have a memory leak on Windows with MKL, when there are less chunks than available threads. You can avoid it by setting the environment variable OMP_NUM_THREADS=2.\n",
      "  warnings.warn(\n",
      "C:\\ProgramData\\Anaconda3\\lib\\site-packages\\sklearn\\cluster\\_kmeans.py:1036: UserWarning: KMeans is known to have a memory leak on Windows with MKL, when there are less chunks than available threads. You can avoid it by setting the environment variable OMP_NUM_THREADS=2.\n",
      "  warnings.warn(\n",
      "C:\\ProgramData\\Anaconda3\\lib\\site-packages\\sklearn\\cluster\\_kmeans.py:1036: UserWarning: KMeans is known to have a memory leak on Windows with MKL, when there are less chunks than available threads. You can avoid it by setting the environment variable OMP_NUM_THREADS=2.\n",
      "  warnings.warn(\n",
      "C:\\ProgramData\\Anaconda3\\lib\\site-packages\\sklearn\\cluster\\_kmeans.py:1036: UserWarning: KMeans is known to have a memory leak on Windows with MKL, when there are less chunks than available threads. You can avoid it by setting the environment variable OMP_NUM_THREADS=2.\n",
      "  warnings.warn(\n",
      "C:\\ProgramData\\Anaconda3\\lib\\site-packages\\sklearn\\cluster\\_kmeans.py:1036: UserWarning: KMeans is known to have a memory leak on Windows with MKL, when there are less chunks than available threads. You can avoid it by setting the environment variable OMP_NUM_THREADS=2.\n",
      "  warnings.warn(\n"
     ]
    }
   ],
   "source": [
    "n_components=np.arange(1,10)\n",
    "aic_scores=[]\n",
    "bic_scores=[]\n",
    "for n in n_components:\n",
    "    model=GaussianMixture(n,n_init=10)\n",
    "    model.fit(X)\n",
    "    aic_score=model.aic(X)\n",
    "    bic_score=model.bic(X)\n",
    "    aic_scores.append(aic_score)\n",
    "    bic_scores.append(bic_score)"
   ]
  },
  {
   "cell_type": "code",
   "execution_count": 124,
   "metadata": {},
   "outputs": [
    {
     "data": {
      "image/png": "[encoded data removed]",
      "text/plain": [
       "<Figure size 432x288 with 1 Axes>"
      ]
     },
     "metadata": {
      "needs_background": "light"
     },
     "output_type": "display_data"
    }
   ],
   "source": [
    "plt.plot(n_components,aic_scores,label='AIC')\n",
    "plt.plot(n_components,bic_scores,label='BIC')\n",
    "plt.legend();"
   ]
  },
  {
   "cell_type": "code",
   "execution_count": null,
   "metadata": {},
   "outputs": [],
   "source": [
    "sns.pairplot(data);"
   ]
  },
  {
   "cell_type": "code",
   "execution_count": null,
   "metadata": {},
   "outputs": [],
   "source": [
    "gmm_data=GaussianMixture(n_components=4,n_init=10)"
   ]
  },
  {
   "cell_type": "code",
   "execution_count": null,
   "metadata": {},
   "outputs": [],
   "source": [
    "gmm_data.fit(data)"
   ]
  },
  {
   "cell_type": "code",
   "execution_count": null,
   "metadata": {},
   "outputs": [],
   "source": [
    "data_pred=gmm_data.predict(data)"
   ]
  },
  {
   "cell_type": "code",
   "execution_count": null,
   "metadata": {},
   "outputs": [],
   "source": [
    "data_pred"
   ]
  },
  {
   "cell_type": "code",
   "execution_count": null,
   "metadata": {},
   "outputs": [],
   "source": [
    "gmm_data.means_"
   ]
  },
  {
   "cell_type": "code",
   "execution_count": null,
   "metadata": {},
   "outputs": [],
   "source": [
    "gmm_data.covariances_"
   ]
  },
  {
   "cell_type": "code",
   "execution_count": null,
   "metadata": {},
   "outputs": [],
   "source": [
    "gmm_data.weights_"
   ]
  },
  {
   "cell_type": "code",
   "execution_count": null,
   "metadata": {},
   "outputs": [],
   "source": [
    "data[\"Label\"]=data_pred"
   ]
  },
  {
   "cell_type": "code",
   "execution_count": null,
   "metadata": {},
   "outputs": [],
   "source": [
    "data['Label'].value_counts()"
   ]
  },
  {
   "cell_type": "code",
   "execution_count": null,
   "metadata": {},
   "outputs": [],
   "source": [
    "sns.pairplot(data,hue='Label')"
   ]
  },
  {
   "cell_type": "markdown",
   "metadata": {},
   "source": [
    "### Hierarchical Clustering"
   ]
  },
  {
   "cell_type": "code",
   "execution_count": null,
   "metadata": {},
   "outputs": [],
   "source": [
    "X_scaled=pd.DataFrame(X,columns=data.columns)\n",
    "X_scaled"
   ]
  },
  {
   "cell_type": "code",
   "execution_count": null,
   "metadata": {},
   "outputs": [],
   "source": [
    "import scipy.cluster.hierarchy as sch"
   ]
  },
  {
   "cell_type": "code",
   "execution_count": null,
   "metadata": {},
   "outputs": [],
   "source": [
    "dendro=sch.dendrogram(sch.linkage(X,method='ward'))"
   ]
  },
  {
   "cell_type": "code",
   "execution_count": null,
   "metadata": {},
   "outputs": [],
   "source": [
    "plt.figure(figsize=(15,12))\n",
    "dendro=sch.dendrogram(sch.linkage(X,method='ward'))\n",
    "plt.axhline(y=35,color='red',linestyle='--');"
   ]
  },
  {
   "cell_type": "code",
   "execution_count": null,
   "metadata": {},
   "outputs": [],
   "source": [
    "plt.figure(figsize=(15,12))\n",
    "dendro=sch.dendrogram(sch.linkage(X,method='ward'))\n",
    "plt.axhline(y=35,color='red',linestyle='--');\n",
    "plt.axhline(y=10,color='red',linestyle='-.');"
   ]
  },
  {
   "cell_type": "markdown",
   "metadata": {},
   "source": [
    "### Agglomerative Clustering using sklearn"
   ]
  },
  {
   "cell_type": "code",
   "execution_count": null,
   "metadata": {},
   "outputs": [],
   "source": [
    "from sklearn.cluster import AgglomerativeClustering"
   ]
  },
  {
   "cell_type": "code",
   "execution_count": null,
   "metadata": {},
   "outputs": [],
   "source": [
    "clust=AgglomerativeClustering(n_clusters=2,linkage='ward')"
   ]
  },
  {
   "cell_type": "code",
   "execution_count": null,
   "metadata": {},
   "outputs": [],
   "source": [
    "clust.fit_predict(X)"
   ]
  },
  {
   "cell_type": "code",
   "execution_count": null,
   "metadata": {},
   "outputs": [],
   "source": [
    "clust.labels_"
   ]
  },
  {
   "cell_type": "code",
   "execution_count": null,
   "metadata": {},
   "outputs": [],
   "source": [
    "X['Label']=clust.labels_"
   ]
  },
  {
   "cell_type": "code",
   "execution_count": null,
   "metadata": {},
   "outputs": [],
   "source": [
    "X"
   ]
  },
  {
   "cell_type": "code",
   "execution_count": null,
   "metadata": {},
   "outputs": [],
   "source": [
    "X['Label'].value_counts()"
   ]
  },
  {
   "cell_type": "code",
   "execution_count": null,
   "metadata": {},
   "outputs": [],
   "source": [
    "X[X['Label']==0]"
   ]
  },
  {
   "cell_type": "code",
   "execution_count": null,
   "metadata": {},
   "outputs": [],
   "source": [
    "X[X['Label']==1]"
   ]
  },
  {
   "cell_type": "code",
   "execution_count": null,
   "metadata": {},
   "outputs": [],
   "source": [
    "sns.scatterplot(x=X['Alcoholism'],y=X['Diabetes'],hue=X['Label']);"
   ]
  },
  {
   "cell_type": "code",
   "execution_count": null,
   "metadata": {},
   "outputs": [],
   "source": [
    "sns.pairplot(data=X,hue='Label');"
   ]
  },
  {
   "cell_type": "code",
   "execution_count": null,
   "metadata": {},
   "outputs": [],
   "source": []
  }
 ],
 "metadata": {
  "kernelspec": {
   "display_name": "Python 3 (ipykernel)",
   "language": "python",
   "name": "python3"
  },
  "language_info": {
   "codemirror_mode": {
    "name": "ipython",
    "version": 3
   },
   "file_extension": ".py",
   "mimetype": "text/x-python",
   "name": "python",
   "nbconvert_exporter": "python",
   "pygments_lexer": "ipython3",
   "version": "3.9.12"
  }
 },
 "nbformat": 4,
 "nbformat_minor": 4
}
